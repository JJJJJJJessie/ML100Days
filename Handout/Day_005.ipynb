{
 "cells": [
  {
   "cell_type": "markdown",
   "metadata": {},
   "source": [
    "## Judgement of values"
   ]
  },
  {
   "cell_type": "code",
   "execution_count": 1,
   "metadata": {},
   "outputs": [
    {
     "name": "stdout",
     "output_type": "stream",
     "text": [
      "[ True  True  True  True]\n",
      "[False False False False]\n",
      "[False False False False]\n",
      "[ True  True  True  True]\n",
      "[False False  True  True]\n"
     ]
    }
   ],
   "source": [
    "import numpy as np\n",
    "\n",
    "a = np.array( [20,30,40,50] )\n",
    "b = np.arange( 4 )\n",
    "\n",
    "# Campare values\n",
    "print(a > b)\n",
    "print(a < b)\n",
    "print(a == b)\n",
    "print(a != b)\n",
    "print(a > 30)"
   ]
  },
  {
   "cell_type": "code",
   "execution_count": 2,
   "metadata": {},
   "outputs": [
    {
     "name": "stdout",
     "output_type": "stream",
     "text": [
      "[20 30 40 50]\n",
      "[20 40]\n",
      "[]\n",
      "[40 50]\n"
     ]
    }
   ],
   "source": [
    "# Use Boolean to return values\n",
    "print(a[ [True, True, True, True] ])\n",
    "print(a[ [True, False, True, False] ])\n",
    "print(a[ [False, False, False, False] ])\n",
    "print(a[a > 30])"
   ]
  },
  {
   "cell_type": "code",
   "execution_count": 3,
   "metadata": {},
   "outputs": [
    {
     "name": "stdout",
     "output_type": "stream",
     "text": [
      "[False False False False]\n",
      "[ True  True  True  True]\n",
      "[ True  True  True  True]\n",
      "True\n",
      "False\n",
      "[ True  True  True  True]\n",
      "[False  True  True  True]\n"
     ]
    }
   ],
   "source": [
    "# Data type\n",
    "print(np.isnan(a))\n",
    "print(np.isfinite(a))\n",
    "print(np.isreal(a))\n",
    "print(np.isrealobj(a))\n",
    "print(np.array_equal(a, b))\n",
    "print(np.greater(a, b))\n",
    "print(np.logical_and(a, b))"
   ]
  },
  {
   "cell_type": "code",
   "execution_count": 4,
   "metadata": {},
   "outputs": [
    {
     "name": "stdout",
     "output_type": "stream",
     "text": [
      "[ True False False False]\n",
      "[ True  True  True False]\n"
     ]
    }
   ],
   "source": [
    "# Boolean judgement\n",
    "a = np.array( [True, True, False, False] )\n",
    "b = np.array( [True, False, True, False]  )\n",
    "\n",
    "print(a & b) # a and b\n",
    "print(a | b) # a or b\n"
   ]
  },
  {
   "cell_type": "code",
   "execution_count": 5,
   "metadata": {},
   "outputs": [
    {
     "name": "stdout",
     "output_type": "stream",
     "text": [
      "True\n",
      "False\n",
      "True\n",
      "False\n"
     ]
    }
   ],
   "source": [
    "# Or\n",
    "print(np.any([True, False, False])) \n",
    "print(np.any([False, False, False]))\n",
    "\n",
    "# And\n",
    "print(np.all([True, True, True]))\n",
    "print(np.all([True, False, False]))"
   ]
  },
  {
   "cell_type": "code",
   "execution_count": null,
   "metadata": {},
   "outputs": [],
   "source": []
  }
 ],
 "metadata": {
  "kernelspec": {
   "display_name": "Python 3",
   "language": "python",
   "name": "python3"
  },
  "language_info": {
   "codemirror_mode": {
    "name": "ipython",
    "version": 3
   },
   "file_extension": ".py",
   "mimetype": "text/x-python",
   "name": "python",
   "nbconvert_exporter": "python",
   "pygments_lexer": "ipython3",
   "version": "3.7.4"
  }
 },
 "nbformat": 4,
 "nbformat_minor": 2
}
