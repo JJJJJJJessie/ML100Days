{
 "cells": [
  {
   "cell_type": "markdown",
   "metadata": {},
   "source": [
    "## Array calculation (Same dimension)"
   ]
  },
  {
   "cell_type": "code",
   "execution_count": 1,
   "metadata": {},
   "outputs": [
    {
     "name": "stdout",
     "output_type": "stream",
     "text": [
      "a - 2 = [18 28 38 48]\n",
      "a / 10 = [2. 3. 4. 5.]\n",
      "a + b = [20 31 42 53]\n",
      "a * b = [  0  30  80 150]\n"
     ]
    }
   ],
   "source": [
    "# Import module\n",
    "import numpy as np\n",
    "\n",
    "# Calculation\n",
    "a = np.array([20,30,40,50])\n",
    "b = np.arange(0, 4)\n",
    "\n",
    "print(\"a - 2 =\", a - 2)\n",
    "print(\"a / 10 =\", a / 10)\n",
    "print(\"a + b =\", a + b)\n",
    "print(\"a * b =\", a * b)"
   ]
  },
  {
   "cell_type": "markdown",
   "metadata": {},
   "source": [
    "## Array calculation (different dimension)"
   ]
  },
  {
   "cell_type": "code",
   "execution_count": 2,
   "metadata": {},
   "outputs": [
    {
     "name": "stdout",
     "output_type": "stream",
     "text": [
      "[[1 2]\n",
      " [3 4]\n",
      " [5 6]]\n",
      "\n",
      "[[2 1]]\n",
      "\n",
      "[[3 3]\n",
      " [5 5]\n",
      " [7 7]]\n"
     ]
    }
   ],
   "source": [
    "# Calculation\n",
    "a = np.array([[1, 2], [3, 4], [5, 6]])\n",
    "b = np.array([[2, 1]])\n",
    "\n",
    "print(a)\n",
    "print(\"\")\n",
    "print(b)\n",
    "print(\"\")\n",
    "print(a + b)"
   ]
  },
  {
   "cell_type": "markdown",
   "metadata": {},
   "source": [
    "## Array calculation (matrix)"
   ]
  },
  {
   "cell_type": "code",
   "execution_count": 3,
   "metadata": {},
   "outputs": [
    {
     "name": "stdout",
     "output_type": "stream",
     "text": [
      "1: [[1. 3.]\n",
      " [2. 4.]]\n",
      "2: [[-2.   1. ]\n",
      " [ 1.5 -0.5]]\n",
      "3: -2.0000000000000004\n",
      "4: 5.0\n",
      "5: [[-3.]\n",
      " [ 4.]]\n",
      "6: [[5.]\n",
      " [7.]]\n"
     ]
    }
   ],
   "source": [
    "a = np.array([[1.0, 2.0], [3.0, 4.0]])\n",
    "b = np.array([[5.], [7.]])\n",
    "\n",
    "# Transpose(A)\n",
    "print(\"1:\", a.transpose())\n",
    "\n",
    "# A^(-1)\n",
    "print(\"2:\", np.linalg.inv(a))\n",
    "\n",
    "# Determinant\n",
    "print(\"3:\", np.linalg.det(a))\n",
    "\n",
    "# Sum of diagonal matrix\n",
    "print(\"4:\", np.trace(a))\n",
    "\n",
    "# Ax = b\n",
    "x = np.linalg.solve(a, b)\n",
    "print(\"5:\", x)\n",
    "print(\"6:\", np.dot(a,x))\n"
   ]
  },
  {
   "cell_type": "code",
   "execution_count": 4,
   "metadata": {},
   "outputs": [
    {
     "name": "stdout",
     "output_type": "stream",
     "text": [
      "[[ 1.  4.]\n",
      " [ 9. 16.]]\n",
      "\n",
      "[[1.         1.41421356]\n",
      " [1.73205081 2.        ]]\n",
      "\n",
      "2.718281828459045\n",
      "54.598150033144236\n",
      "[ 1.          2.71828183  7.3890561  20.08553692 54.59815003]\n"
     ]
    }
   ],
   "source": [
    "# Power\n",
    "print(np.power(a, 2))\n",
    "print(\"\")\n",
    "\n",
    "# Sqrt\n",
    "print(np.sqrt(a))\n",
    "print(\"\")\n",
    "\n",
    "# Euler's number(e) & exponential function(e^(x))\n",
    "print(np.e)\n",
    "print(np.exp(4))\n",
    "print(np.exp(np.arange(5)))"
   ]
  },
  {
   "cell_type": "code",
   "execution_count": 5,
   "metadata": {},
   "outputs": [
    {
     "name": "stdout",
     "output_type": "stream",
     "text": [
      "2.0\n",
      "[[0.         0.30103   ]\n",
      " [0.47712125 0.60205999]]\n"
     ]
    }
   ],
   "source": [
    "# Log\n",
    "# log3(9)\n",
    "print(np.log(9)/np.log(3))\n",
    "print(np.log10(a))"
   ]
  },
  {
   "cell_type": "code",
   "execution_count": 6,
   "metadata": {},
   "outputs": [
    {
     "name": "stdout",
     "output_type": "stream",
     "text": [
      "[[1 2]\n",
      " [4 3]]\n",
      "[[1. 2.]\n",
      " [4. 3.]]\n"
     ]
    }
   ],
   "source": [
    "c = np.array([[1, -2], [4, -3]])\n",
    "\n",
    "print(np.abs(c)) # Absolute\n",
    "print(np.fabs(c)) # Can not deal with complex"
   ]
  },
  {
   "cell_type": "code",
   "execution_count": null,
   "metadata": {},
   "outputs": [],
   "source": []
  }
 ],
 "metadata": {
  "kernelspec": {
   "display_name": "Python 3",
   "language": "python",
   "name": "python3"
  },
  "language_info": {
   "codemirror_mode": {
    "name": "ipython",
    "version": 3
   },
   "file_extension": ".py",
   "mimetype": "text/x-python",
   "name": "python",
   "nbconvert_exporter": "python",
   "pygments_lexer": "ipython3",
   "version": "3.7.4"
  }
 },
 "nbformat": 4,
 "nbformat_minor": 2
}
