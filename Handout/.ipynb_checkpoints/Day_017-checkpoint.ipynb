{
 "cells": [
  {
   "cell_type": "markdown",
   "metadata": {},
   "source": [
    "## Time series"
   ]
  },
  {
   "cell_type": "code",
   "execution_count": 1,
   "metadata": {},
   "outputs": [
    {
     "data": {
      "text/plain": [
       "2021    1\n",
       "2022    2\n",
       "2023    3\n",
       "2024    4\n",
       "2025    5\n",
       "Freq: A-DEC, dtype: int64"
      ]
     },
     "execution_count": 1,
     "metadata": {},
     "output_type": "execute_result"
    }
   ],
   "source": [
    "import pandas as pd\n",
    "\n",
    "df = pd.Series([1, 2, 3, 4, 5], index=pd.period_range('2021-01-01', freq='Y', periods=5))\n",
    "df"
   ]
  },
  {
   "cell_type": "code",
   "execution_count": 2,
   "metadata": {},
   "outputs": [
    {
     "data": {
      "text/plain": [
       "2021Q1    1.0\n",
       "2021Q2    NaN\n",
       "2021Q3    NaN\n",
       "2021Q4    NaN\n",
       "2022Q1    2.0\n",
       "2022Q2    NaN\n",
       "2022Q3    NaN\n",
       "2022Q4    NaN\n",
       "2023Q1    3.0\n",
       "2023Q2    NaN\n",
       "2023Q3    NaN\n",
       "2023Q4    NaN\n",
       "2024Q1    4.0\n",
       "2024Q2    NaN\n",
       "2024Q3    NaN\n",
       "2024Q4    NaN\n",
       "2025Q1    5.0\n",
       "2025Q2    NaN\n",
       "2025Q3    NaN\n",
       "2025Q4    NaN\n",
       "Freq: Q-DEC, dtype: float64"
      ]
     },
     "execution_count": 2,
     "metadata": {},
     "output_type": "execute_result"
    }
   ],
   "source": [
    "# Revise the time series\n",
    "df.resample('Q', convention='start').asfreq()"
   ]
  },
  {
   "cell_type": "code",
   "execution_count": 3,
   "metadata": {},
   "outputs": [
    {
     "data": {
      "text/plain": [
       "2021Q1    1.0\n",
       "2021Q2    1.0\n",
       "2021Q3    1.0\n",
       "2021Q4    NaN\n",
       "2022Q1    2.0\n",
       "2022Q2    2.0\n",
       "2022Q3    2.0\n",
       "2022Q4    NaN\n",
       "2023Q1    3.0\n",
       "2023Q2    3.0\n",
       "2023Q3    3.0\n",
       "2023Q4    NaN\n",
       "2024Q1    4.0\n",
       "2024Q2    4.0\n",
       "2024Q3    4.0\n",
       "2024Q4    NaN\n",
       "2025Q1    5.0\n",
       "2025Q2    5.0\n",
       "2025Q3    5.0\n",
       "2025Q4    NaN\n",
       "Freq: Q-DEC, dtype: float64"
      ]
     },
     "execution_count": 3,
     "metadata": {},
     "output_type": "execute_result"
    }
   ],
   "source": [
    "df.resample('Q', convention='start').ffill(2)"
   ]
  },
  {
   "cell_type": "code",
   "execution_count": 4,
   "metadata": {},
   "outputs": [
    {
     "data": {
      "text/plain": [
       "2021    1\n",
       "2022    2\n",
       "2023    3\n",
       "Freq: A-DEC, dtype: int64"
      ]
     },
     "execution_count": 4,
     "metadata": {},
     "output_type": "execute_result"
    }
   ],
   "source": [
    "# Get certain rows\n",
    "df['2021':'2023']"
   ]
  },
  {
   "cell_type": "code",
   "execution_count": 5,
   "metadata": {},
   "outputs": [
    {
     "data": {
      "text/plain": [
       "2023    1\n",
       "2024    2\n",
       "2025    3\n",
       "2026    4\n",
       "2027    5\n",
       "Freq: A-DEC, dtype: int64"
      ]
     },
     "execution_count": 5,
     "metadata": {},
     "output_type": "execute_result"
    }
   ],
   "source": [
    "# Shift rows\n",
    "df.shift(2, freq='Y')"
   ]
  },
  {
   "cell_type": "markdown",
   "metadata": {},
   "source": [
    "## Transfer String to Timestamp"
   ]
  },
  {
   "cell_type": "code",
   "execution_count": 6,
   "metadata": {},
   "outputs": [
    {
     "name": "stdout",
     "output_type": "stream",
     "text": [
      "2021-01-01 <class 'str'>\n",
      "2021-01-01 00:00:00 <class 'pandas._libs.tslibs.timestamps.Timestamp'>\n"
     ]
    }
   ],
   "source": [
    "str_date = '2021-01-01'\n",
    "date = pd.Timestamp(2021,1,1)\n",
    "print(str_date, type(str_date))\n",
    "print(date, type(date))"
   ]
  },
  {
   "cell_type": "code",
   "execution_count": 7,
   "metadata": {},
   "outputs": [
    {
     "name": "stdout",
     "output_type": "stream",
     "text": [
      "2021-01_01 <class 'str'>\n",
      "2021-01-01 00:00:00 <class 'pandas._libs.tslibs.timestamps.Timestamp'>\n"
     ]
    }
   ],
   "source": [
    "# Time to str\n",
    "date_to_str = date.strftime('%Y-%m_%d')\n",
    "\n",
    "# Str to time\n",
    "str_to_date = pd.to_datetime(str_date)\n",
    "\n",
    "print(date_to_str, type(date_to_str))\n",
    "print(str_to_date, type(str_to_date))"
   ]
  },
  {
   "cell_type": "markdown",
   "metadata": {},
   "source": [
    "## Timestamp"
   ]
  },
  {
   "cell_type": "code",
   "execution_count": 8,
   "metadata": {},
   "outputs": [
    {
     "data": {
      "text/plain": [
       "(2021, 1, 1)"
      ]
     },
     "execution_count": 8,
     "metadata": {},
     "output_type": "execute_result"
    }
   ],
   "source": [
    "date.year, date.month, date.day"
   ]
  },
  {
   "cell_type": "code",
   "execution_count": 9,
   "metadata": {},
   "outputs": [
    {
     "data": {
      "text/plain": [
       "('Friday', 53)"
      ]
     },
     "execution_count": 9,
     "metadata": {},
     "output_type": "execute_result"
    }
   ],
   "source": [
    "date.day_name(), date.weekofyear"
   ]
  },
  {
   "cell_type": "code",
   "execution_count": 10,
   "metadata": {},
   "outputs": [
    {
     "data": {
      "text/plain": [
       "Timedelta('10 days 00:00:00')"
      ]
     },
     "execution_count": 10,
     "metadata": {},
     "output_type": "execute_result"
    }
   ],
   "source": [
    "# Calculation\n",
    "date2 = pd.Timestamp(2021, 1, 11)\n",
    "date2 - date"
   ]
  },
  {
   "cell_type": "code",
   "execution_count": 11,
   "metadata": {},
   "outputs": [
    {
     "data": {
      "text/plain": [
       "True"
      ]
     },
     "execution_count": 11,
     "metadata": {},
     "output_type": "execute_result"
    }
   ],
   "source": [
    "date + pd.Timedelta(days=10) == date2"
   ]
  },
  {
   "cell_type": "code",
   "execution_count": 12,
   "metadata": {},
   "outputs": [
    {
     "data": {
      "text/plain": [
       "'Tuesday'"
      ]
     },
     "execution_count": 12,
     "metadata": {},
     "output_type": "execute_result"
    }
   ],
   "source": [
    "# Business Day\n",
    "((date+pd.Timedelta(days=1)) + pd.offsets.BDay(2)).day_name()"
   ]
  },
  {
   "cell_type": "code",
   "execution_count": null,
   "metadata": {},
   "outputs": [],
   "source": []
  }
 ],
 "metadata": {
  "kernelspec": {
   "display_name": "Python 3",
   "language": "python",
   "name": "python3"
  },
  "language_info": {
   "codemirror_mode": {
    "name": "ipython",
    "version": 3
   },
   "file_extension": ".py",
   "mimetype": "text/x-python",
   "name": "python",
   "nbconvert_exporter": "python",
   "pygments_lexer": "ipython3",
   "version": "3.7.4"
  }
 },
 "nbformat": 4,
 "nbformat_minor": 2
}
