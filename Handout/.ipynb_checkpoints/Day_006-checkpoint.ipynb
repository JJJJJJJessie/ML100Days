{
 "cells": [
  {
   "cell_type": "markdown",
   "metadata": {},
   "source": [
    "## Universal function"
   ]
  },
  {
   "cell_type": "code",
   "execution_count": 1,
   "metadata": {
    "scrolled": false
   },
   "outputs": [
    {
     "name": "stdout",
     "output_type": "stream",
     "text": [
      "Sum(a): 25\n",
      "Max(a) 8\n",
      "Min(a): 3\n",
      "Std(a): 1.8973665961010275\n",
      "Var(a): 3.6\n",
      "Mean(a): 5.0\n",
      "Average(a): 5.0\n",
      "Qercentile3(a): 6.0\n",
      "\n",
      "Nanmax(b): 77\n",
      "Nanmin(b): 1\n",
      "Nanstd(b): 29.819456735494025\n",
      "Nanvar(b): 889.2\n",
      "Nanmean(b): 32.0\n",
      "Nanmedian(b): 22.0\n",
      "Nanquantile3(b): 56.0\n",
      "\n",
      "Fmax: [22 77  8 56  5]\n",
      "Fmin: [3 6 4 3 1]\n",
      "Cov: [[   4.5   -16.75]\n",
      " [ -16.75 1111.5 ]]\n",
      "Coefficient: [[ 1.         -0.23683933]\n",
      " [-0.23683933  1.        ]]\n",
      "Cross-correlation: [733]\n"
     ]
    }
   ],
   "source": [
    "import numpy as np \n",
    "\n",
    "a = np.array([3, 6, 8, 3, 5])\n",
    "b = np.array([22, 77, 4, 56, 1])\n",
    "\n",
    "# Statistics\n",
    "print(\"Sum(a):\", a.sum()) # print(np.sum(a)) = print(sum(a))\n",
    "print(\"Max(a)\", a.max())\n",
    "print(\"Min(a):\", a.min())\n",
    "print(\"Std(a):\", np.std(a))\n",
    "print(\"Var(a):\", np.var(a))\n",
    "print(\"Mean(a):\", np.mean(a))\n",
    "print(\"Average(a):\", np.average(a))\n",
    "print(\"Qercentile3(a):\", np.quantile(a, 0.75))\n",
    "print(\"\")\n",
    "\n",
    "# Return not nan value\n",
    "print(\"Nanmax(b):\", np.nanmax(b))\n",
    "print(\"Nanmin(b):\", np.nanmin(b))\n",
    "print(\"Nanstd(b):\", np.nanstd(b))\n",
    "print(\"Nanvar(b):\", np.nanvar(b))\n",
    "print(\"Nanmean(b):\", np.nanmean(b))\n",
    "print(\"Nanmedian(b):\", np.nanmedian(b))\n",
    "print(\"Nanquantile3(b):\", np.nanquantile(b, 0.75))\n",
    "print(\"\")\n",
    "\n",
    "# Compare two arrays\n",
    "print(\"Fmax:\", np.fmax(a, b))\n",
    "print(\"Fmin:\", np.fmin(a, b))\n",
    "print(\"Cov:\", np.cov(a, b))\n",
    "print(\"Coefficient:\", np.corrcoef(a, b))\n",
    "print(\"Cross-correlation:\", np.correlate(a, b))"
   ]
  },
  {
   "cell_type": "markdown",
   "metadata": {},
   "source": [
    "## Multi-dimension array"
   ]
  },
  {
   "cell_type": "code",
   "execution_count": 2,
   "metadata": {},
   "outputs": [
    {
     "name": "stdout",
     "output_type": "stream",
     "text": [
      "Sum: 66\n",
      "Sum(column): [12 15 18 21]\n",
      "Sum(row): [ 6 22 38]\n"
     ]
    }
   ],
   "source": [
    "c = np.arange(12).reshape(3, 4)\n",
    "\n",
    "print(\"Sum:\", c.sum())\n",
    "print(\"Sum(column):\", c.sum(axis = 0))\n",
    "print(\"Sum(row):\", c.sum(axis = 1))"
   ]
  },
  {
   "cell_type": "markdown",
   "metadata": {},
   "source": [
    "## Sort array"
   ]
  },
  {
   "cell_type": "code",
   "execution_count": 3,
   "metadata": {},
   "outputs": [
    {
     "name": "stdout",
     "output_type": "stream",
     "text": [
      "Sort(b): [ 1  4 22 56 77]\n",
      "Sort(b): None\n",
      "[ 1  4 22 56 77]\n",
      "Sort(b): [ 1  4 22 56 77]\n",
      "SortIndex(b): [0 1 2 3 4]\n"
     ]
    }
   ],
   "source": [
    "# Search array with different algorithm\n",
    "print(\"Sort(b):\", np.sort(b))\n",
    "print(\"Sort(b):\", b.sort(kind = \"HeapSort\"))\n",
    "print(b)\n",
    "print(\"Sort(b):\", np.sort(b, kind = \"QuickSort\"))\n",
    "print(\"SortIndex(b):\", np.argsort(b))"
   ]
  },
  {
   "cell_type": "markdown",
   "metadata": {},
   "source": [
    "## Search sort"
   ]
  },
  {
   "cell_type": "code",
   "execution_count": 4,
   "metadata": {},
   "outputs": [
    {
     "name": "stdout",
     "output_type": "stream",
     "text": [
      "Search(b): 3\n",
      "SearchIndex(b): [1 0 5 1]\n"
     ]
    }
   ],
   "source": [
    "# Search position\n",
    "print(\"Search(b):\", np.searchsorted(b, 56))\n",
    "print(\"SearchIndex(b):\", np.searchsorted(b, [2, 0, 89, 3]))"
   ]
  },
  {
   "cell_type": "code",
   "execution_count": 5,
   "metadata": {},
   "outputs": [
    {
     "name": "stdout",
     "output_type": "stream",
     "text": [
      "ArrayMax(b): 4\n",
      "ArrayMax(b): 4\n",
      "ArrayMin(b): 0\n",
      "ArrayMin(b): 0\n"
     ]
    }
   ],
   "source": [
    "# Return index of max\n",
    "print(\"ArrayMax(b):\", np.argmax(b))\n",
    "print(\"ArrayMax(b):\", b.argmax())\n",
    "\n",
    "# return index of min\n",
    "print(\"ArrayMin(b):\", np.argmin(b))\n",
    "print(\"ArrayMin(b):\", b.argmin())"
   ]
  },
  {
   "cell_type": "code",
   "execution_count": 6,
   "metadata": {},
   "outputs": [
    {
     "data": {
      "text/plain": [
       "(array([0, 0, 0, 0, 1, 1], dtype=int64),\n",
       " array([0, 1, 2, 3, 0, 1], dtype=int64))"
      ]
     },
     "execution_count": 6,
     "metadata": {},
     "output_type": "execute_result"
    }
   ],
   "source": [
    "# Condition\n",
    "np.where(c < 6) # c[0, 0], c[0, 1], c[0, 2]...c[1, 1]"
   ]
  },
  {
   "cell_type": "code",
   "execution_count": 7,
   "metadata": {},
   "outputs": [
    {
     "name": "stdout",
     "output_type": "stream",
     "text": [
      "(array([0, 0, 0, 1, 1, 1, 1, 2, 2, 2, 2], dtype=int64), array([1, 2, 3, 0, 1, 2, 3, 0, 1, 2, 3], dtype=int64))\n",
      "(array([0, 0, 0, 1, 1, 1, 1, 2, 2, 2, 2], dtype=int64), array([1, 2, 3, 0, 1, 2, 3, 0, 1, 2, 3], dtype=int64))\n"
     ]
    }
   ],
   "source": [
    "# Condition\n",
    "print(np.where(c != 0))\n",
    "print(np.nonzero(c))"
   ]
  },
  {
   "cell_type": "markdown",
   "metadata": {},
   "source": [
    "## Array shape"
   ]
  },
  {
   "cell_type": "code",
   "execution_count": 8,
   "metadata": {},
   "outputs": [
    {
     "name": "stdout",
     "output_type": "stream",
     "text": [
      "[[ 0  1  2  3]\n",
      " [ 4  5  6  7]\n",
      " [ 8  9 10 11]]\n",
      "\n",
      "[[ 0  1  2  3  4  5]\n",
      " [ 6  7  8  9 10 11]]\n",
      "\n",
      "None\n",
      "[[ 0  1  2]\n",
      " [ 3  4  5]\n",
      " [ 6  7  8]\n",
      " [ 9 10 11]]\n"
     ]
    }
   ],
   "source": [
    "# Reshape\n",
    "print(c)\n",
    "print(\"\")\n",
    "\n",
    "print(c.reshape(2, 6))\n",
    "print(\"\")\n",
    "\n",
    "print(c.resize(4, 3))\n",
    "print(c)"
   ]
  },
  {
   "cell_type": "code",
   "execution_count": 9,
   "metadata": {},
   "outputs": [
    {
     "name": "stdout",
     "output_type": "stream",
     "text": [
      "[ 0  1  2  3  4  5  6  7  8  9 10 11]\n",
      "[ 0  1  2  3  4  5  6  7  8  9 10 11]\n"
     ]
    }
   ],
   "source": [
    "# Multi-dimension array to one-dimension array\n",
    "print(c.ravel())\n",
    "print(c.flatten())"
   ]
  },
  {
   "cell_type": "code",
   "execution_count": 10,
   "metadata": {},
   "outputs": [
    {
     "name": "stdout",
     "output_type": "stream",
     "text": [
      "[ 3  6  8  3  5  1  4 22 56 77]\n",
      "[ 1  3  3  4  5  6  8 22 56 77]\n"
     ]
    }
   ],
   "source": [
    "# Concatenate\n",
    "print(np.concatenate((a, b), axis = 0))\n",
    "print(np.sort(np.concatenate((a, b), axis = 0)))"
   ]
  },
  {
   "cell_type": "code",
   "execution_count": 11,
   "metadata": {},
   "outputs": [
    {
     "name": "stdout",
     "output_type": "stream",
     "text": [
      "[[[ 0  1  2]\n",
      "  [ 3  4  5]\n",
      "  [ 6  7  8]\n",
      "  [ 9 10 11]]\n",
      "\n",
      " [[10 11 12]\n",
      "  [13 14 15]\n",
      "  [16 17 18]\n",
      "  [19 20 21]]]\n",
      "----------\n",
      "[[[ 0  1  2]\n",
      "  [10 11 12]]\n",
      "\n",
      " [[ 3  4  5]\n",
      "  [13 14 15]]\n",
      "\n",
      " [[ 6  7  8]\n",
      "  [16 17 18]]\n",
      "\n",
      " [[ 9 10 11]\n",
      "  [19 20 21]]]\n",
      "----------\n",
      "[[ 0  1  2  3  4  5  6  7]\n",
      " [ 8  9 10 11 10 11 12 13]\n",
      " [14 15 16 17 18 19 20 21]]\n",
      "----------\n",
      "[[ 0  1  2 10 11 12  3  4]\n",
      " [ 5 13 14 15  6  7  8 16]\n",
      " [17 18  9 10 11 19 20 21]]\n"
     ]
    }
   ],
   "source": [
    "d = np.arange(10, 22).reshape(4, 3)\n",
    "\n",
    "# Merge array\n",
    "print(np.stack((c, d), axis=0))\n",
    "print(\"----------\")\n",
    "print(np.stack((c, d), axis=1))\n",
    "print(\"----------\")\n",
    "print(np.vstack((c, d)).reshape(3, 8)) # Row\n",
    "print(\"----------\")\n",
    "print(np.hstack((c, d)).reshape(3, 8)) # Column"
   ]
  },
  {
   "cell_type": "code",
   "execution_count": 12,
   "metadata": {},
   "outputs": [
    {
     "data": {
      "text/plain": [
       "array([[ 0,  1,  2, 10],\n",
       "       [11, 12,  3,  4],\n",
       "       [ 5, 13, 14, 15],\n",
       "       [ 6,  7,  8, 16],\n",
       "       [17, 18,  9, 10],\n",
       "       [11, 19, 20, 21]])"
      ]
     },
     "execution_count": 12,
     "metadata": {},
     "output_type": "execute_result"
    }
   ],
   "source": [
    "e = np.hstack((c, d)).reshape(6, 4)\n",
    "e"
   ]
  },
  {
   "cell_type": "code",
   "execution_count": 13,
   "metadata": {},
   "outputs": [
    {
     "name": "stdout",
     "output_type": "stream",
     "text": [
      "[array([[ 0,  1,  2, 10],\n",
      "       [11, 12,  3,  4]]), array([[ 5, 13, 14, 15],\n",
      "       [ 6,  7,  8, 16]]), array([[17, 18,  9, 10],\n",
      "       [11, 19, 20, 21]])]\n",
      "----------\n",
      "[array([[ 0,  1,  2, 10],\n",
      "       [11, 12,  3,  4],\n",
      "       [ 5, 13, 14, 15]]), array([[ 6,  7,  8, 16],\n",
      "       [17, 18,  9, 10],\n",
      "       [11, 19, 20, 21]])]\n",
      "----------\n",
      "[array([[ 0,  1],\n",
      "       [11, 12],\n",
      "       [ 5, 13],\n",
      "       [ 6,  7],\n",
      "       [17, 18],\n",
      "       [11, 19]]), array([[ 2, 10],\n",
      "       [ 3,  4],\n",
      "       [14, 15],\n",
      "       [ 8, 16],\n",
      "       [ 9, 10],\n",
      "       [20, 21]])]\n",
      "----------\n",
      "[array([[ 0,  1,  2, 10],\n",
      "       [11, 12,  3,  4]]), array([[ 5, 13, 14, 15]]), array([[ 6,  7,  8, 16]]), array([[17, 18,  9, 10]]), array([[11, 19, 20, 21]])]\n"
     ]
    }
   ],
   "source": [
    "# Split row\n",
    "print(np.split(e, 3))\n",
    "print(\"----------\")\n",
    "\n",
    "# Split row\n",
    "print(np.vsplit(e, 2))\n",
    "print(\"----------\")\n",
    "\n",
    "# Split column\n",
    "print(np.hsplit(e, 2))\n",
    "print(\"----------\")\n",
    "\n",
    "# Split array\n",
    "print(np.array_split(e, 5))"
   ]
  },
  {
   "cell_type": "code",
   "execution_count": null,
   "metadata": {},
   "outputs": [],
   "source": []
  }
 ],
 "metadata": {
  "kernelspec": {
   "display_name": "Python 3",
   "language": "python",
   "name": "python3"
  },
  "language_info": {
   "codemirror_mode": {
    "name": "ipython",
    "version": 3
   },
   "file_extension": ".py",
   "mimetype": "text/x-python",
   "name": "python",
   "nbconvert_exporter": "python",
   "pygments_lexer": "ipython3",
   "version": "3.7.4"
  }
 },
 "nbformat": 4,
 "nbformat_minor": 2
}
