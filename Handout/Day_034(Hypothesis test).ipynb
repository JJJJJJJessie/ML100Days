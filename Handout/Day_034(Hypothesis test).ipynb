{
 "cells": [
  {
   "cell_type": "markdown",
   "id": "4b796864",
   "metadata": {},
   "source": [
    "實驗中設計了兩種情境，左邊是用統一的內容，右邊是個人化訊息， 透過比較親親切的語言，運用個人化的打招呼的方式，是否能提高開信率？\n",
    "\n",
    "我們總共寄給100個人，兩種不同的email主旨，50封是統一式開頭，50封是個人化開頭 統一式開頭。開信率為10%，個人化開頭，開信率為30%，看到這樣的資料會怎樣下決定？"
   ]
  },
  {
   "cell_type": "code",
   "execution_count": 1,
   "id": "57ff7d7b",
   "metadata": {},
   "outputs": [
    {
     "data": {
      "text/plain": [
       "(-2.4999999999999996, 0.006209665325776138)"
      ]
     },
     "execution_count": 1,
     "metadata": {},
     "output_type": "execute_result"
    }
   ],
   "source": [
    "import statsmodels.stats.proportion\n",
    "\n",
    "# People open the mail respectively\n",
    "A = [5, 15]\n",
    "\n",
    "# The number of mail that be sent for each other\n",
    "B = [50, 50]\n",
    "\n",
    "# H0: P(unified) - P(customized) >= 0\n",
    "# H1: P(unified) - P(customized) < 0\n",
    "# Output -> (z-score, p-value)\n",
    "statsmodels.stats.proportion.proportions_ztest(A, B, alternative='smaller')"
   ]
  },
  {
   "cell_type": "code",
   "execution_count": null,
   "id": "987c6b19",
   "metadata": {},
   "outputs": [],
   "source": []
  }
 ],
 "metadata": {
  "kernelspec": {
   "display_name": "Python 3",
   "language": "python",
   "name": "python3"
  },
  "language_info": {
   "codemirror_mode": {
    "name": "ipython",
    "version": 3
   },
   "file_extension": ".py",
   "mimetype": "text/x-python",
   "name": "python",
   "nbconvert_exporter": "python",
   "pygments_lexer": "ipython3",
   "version": "3.7.4"
  }
 },
 "nbformat": 4,
 "nbformat_minor": 5
}
