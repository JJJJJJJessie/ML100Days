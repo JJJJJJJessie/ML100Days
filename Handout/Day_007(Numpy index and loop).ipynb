{
 "cells": [
  {
   "cell_type": "markdown",
   "metadata": {},
   "source": [
    "## Extract values in array"
   ]
  },
  {
   "cell_type": "code",
   "execution_count": 1,
   "metadata": {},
   "outputs": [
    {
     "name": "stdout",
     "output_type": "stream",
     "text": [
      "[1 2 3]\n",
      "[1 2]\n",
      "[1 2]\n",
      "[1 2 3]\n"
     ]
    }
   ],
   "source": [
    "import numpy as np \n",
    "\n",
    "a = np.array([1, 2, 3])\n",
    "print(a[:])\n",
    "print(a[:2])\n",
    "print(a[:-1])\n",
    "print(a[-3:])"
   ]
  },
  {
   "cell_type": "code",
   "execution_count": 2,
   "metadata": {},
   "outputs": [
    {
     "name": "stdout",
     "output_type": "stream",
     "text": [
      "[1 3 5]\n",
      "\n",
      "(8, 4)\n",
      "\n",
      "[0 1]\n",
      "[2 3]\n",
      "[4 5]\n",
      "\n",
      "0\n",
      "1\n",
      "2\n",
      "3\n",
      "4\n",
      "5\n"
     ]
    }
   ],
   "source": [
    "b = np.arange(6, dtype = int).reshape(3, 2)\n",
    "\n",
    "print(b[:3, 1])\n",
    "print(\"\")\n",
    "print(b.strides) # One row has 2 ints, and each int has 4 digits.\n",
    "print(\"\")\n",
    "\n",
    "for row in b:\n",
    "    print(row)\n",
    "\n",
    "print(\"\")\n",
    "\n",
    "for i in b.flat:\n",
    "    print(i)"
   ]
  },
  {
   "cell_type": "markdown",
   "metadata": {},
   "source": [
    "## Iterative object"
   ]
  },
  {
   "cell_type": "code",
   "execution_count": 3,
   "metadata": {},
   "outputs": [
    {
     "name": "stdout",
     "output_type": "stream",
     "text": [
      "0 1 2 3 4 5 \n",
      "0 1 2 3 4 5 \n",
      "0 2 4 1 3 5 "
     ]
    }
   ],
   "source": [
    "# Change to vector\n",
    "for i in np.nditer(b):\n",
    "    print(i, end = \" \")\n",
    "print(\"\")\n",
    "\n",
    "for j in np.nditer(b, order = \"C\"):\n",
    "    print(j, end = \" \")\n",
    "print(\"\")\n",
    "\n",
    "for z in np.nditer(b, order = \"F\"):\n",
    "    print(z, end = \" \")"
   ]
  },
  {
   "cell_type": "code",
   "execution_count": null,
   "metadata": {},
   "outputs": [],
   "source": []
  }
 ],
 "metadata": {
  "kernelspec": {
   "display_name": "Python 3",
   "language": "python",
   "name": "python3"
  },
  "language_info": {
   "codemirror_mode": {
    "name": "ipython",
    "version": 3
   },
   "file_extension": ".py",
   "mimetype": "text/x-python",
   "name": "python",
   "nbconvert_exporter": "python",
   "pygments_lexer": "ipython3",
   "version": "3.7.4"
  }
 },
 "nbformat": 4,
 "nbformat_minor": 2
}
