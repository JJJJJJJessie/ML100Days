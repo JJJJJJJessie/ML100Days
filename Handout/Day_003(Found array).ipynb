{
 "cells": [
  {
   "cell_type": "code",
   "execution_count": 1,
   "metadata": {},
   "outputs": [
    {
     "name": "stdout",
     "output_type": "stream",
     "text": [
      "1: [1. 2. 3.]\n",
      "2: [1.+0.j 2.+0.j 3.+0.j]\n",
      "3: {0: 123, 1: 456}\n",
      "4: [[  0 123]\n",
      " [  1 456]]\n"
     ]
    }
   ],
   "source": [
    "# Import module\n",
    "import numpy as np\n",
    "\n",
    "# Value\n",
    "print(\"1:\", np.array([1, 2, 3.0]))\n",
    "print(\"2:\", np.array([1, 2, 3], dtype = complex))\n",
    "\n",
    "# Dict\n",
    "dict_1 = {0: 123, 1: 456}\n",
    "print(\"3:\", np.array(dict_1))\n",
    "\n",
    "# Dict to array\n",
    "print(\"4:\", np.array(list(dict_1.items())))"
   ]
  },
  {
   "cell_type": "markdown",
   "metadata": {},
   "source": [
    "## Create array with all same vlaues"
   ]
  },
  {
   "cell_type": "code",
   "execution_count": 2,
   "metadata": {},
   "outputs": [
    {
     "name": "stdout",
     "output_type": "stream",
     "text": [
      "[[0. 0. 0.]\n",
      " [0. 0. 0.]]\n",
      "\n",
      "[[1. 1. 1.]\n",
      " [1. 1. 1.]]\n",
      "\n",
      "[[9 9 9]\n",
      " [9 9 9]]\n",
      "\n",
      "[[1. 1. 1.]\n",
      " [1. 1. 1.]]\n"
     ]
    }
   ],
   "source": [
    "# All zero values\n",
    "print(np.zeros((2, 3)))\n",
    "print(\"\")\n",
    "\n",
    "# All one values\n",
    "print(np.ones((2, 3)))\n",
    "print(\"\")\n",
    "\n",
    "# All values by arranged\n",
    "print(np.full((2, 3), 9))\n",
    "print(\"\")\n",
    "\n",
    "# Random values\n",
    "print(np.empty((2, 3)))"
   ]
  },
  {
   "cell_type": "markdown",
   "metadata": {},
   "source": [
    "## Create array with certain values"
   ]
  },
  {
   "cell_type": "code",
   "execution_count": 3,
   "metadata": {},
   "outputs": [
    {
     "name": "stdout",
     "output_type": "stream",
     "text": [
      "[10 13 16 19 22 25 28]\n",
      "[0.   1.25 2.5  3.75 5.  ]\n",
      "[   1.   10.  100. 1000.]\n"
     ]
    }
   ],
   "source": [
    "# Fixed range\n",
    "print(np.arange(10, 30, 3))\n",
    "\n",
    "# Fixed elements\n",
    "print(np.linspace(0, 5, 5))\n",
    "\n",
    "# Fixed ratio\n",
    "print(np.logspace(0, 3, 4)) # np.logspace(10^start, 10^end, elements)"
   ]
  },
  {
   "cell_type": "markdown",
   "metadata": {},
   "source": [
    "## Random values"
   ]
  },
  {
   "cell_type": "code",
   "execution_count": 4,
   "metadata": {},
   "outputs": [
    {
     "name": "stdout",
     "output_type": "stream",
     "text": [
      "[[-0.32222287  0.96200478 -1.67652204]\n",
      " [ 0.86455797  2.33076423  1.00025346]]\n",
      "\n",
      "[[0.39131656 0.6770728 ]\n",
      " [0.8493269  0.34386723]\n",
      " [0.2152861  0.62283891]]\n",
      "\n",
      "[[1 8 2 5]\n",
      " [2 2 5 5]]\n"
     ]
    }
   ],
   "source": [
    "# Normal distribution random values\n",
    "normal = np.random.randn(2, 3)\n",
    "print(normal)\n",
    "print(\"\")\n",
    "\n",
    "# Random values\n",
    "random = np.random.random((3, 2))\n",
    "print(random)\n",
    "print(\"\")\n",
    "\n",
    "# Integer random values\n",
    "integers = np.random.randint(0, 10, size=(2,4))\n",
    "print(integers)"
   ]
  },
  {
   "cell_type": "markdown",
   "metadata": {},
   "source": [
    "## Structured Arrays"
   ]
  },
  {
   "cell_type": "code",
   "execution_count": 8,
   "metadata": {},
   "outputs": [
    {
     "data": {
      "text/plain": [
       "dtype([('Name', '<U5'), ('num1', '<i4'), ('num2', '<i4'), ('True', '<U4')])"
      ]
     },
     "execution_count": 8,
     "metadata": {},
     "output_type": "execute_result"
    }
   ],
   "source": [
    "# Dict to np.dtype()\n",
    "dict_1 = {'names':('Name', 'num1', 'num2', 'True'), 'formats':((np.str_, 5), np.int32, int, 'U4')}\n",
    "dict_1 = np.dtype(dict_1)\n",
    "dict_1"
   ]
  },
  {
   "cell_type": "code",
   "execution_count": 9,
   "metadata": {},
   "outputs": [
    {
     "data": {
      "text/plain": [
       "array([('Jay', 1, 2, ' Yes'), ('James', 3, 4, ' No'),\n",
       "       ('Joe', 5, 6, ' Yes')],\n",
       "      dtype=[('Name', '<U5'), ('num1', '<i4'), ('num2', '<i4'), ('True', '<U4')])"
      ]
     },
     "execution_count": 9,
     "metadata": {},
     "output_type": "execute_result"
    }
   ],
   "source": [
    "# Read data to dict\n",
    "b = np.genfromtxt(\"D:/Data Analysis/GitHub/ML100Days/Handout/Day_003.txt\", delimiter=',', dtype=dt)\n",
    "b"
   ]
  },
  {
   "cell_type": "code",
   "execution_count": 10,
   "metadata": {},
   "outputs": [
    {
     "name": "stdout",
     "output_type": "stream",
     "text": [
      "('Jay', 1, 2, ' Yes')\n",
      "['Jay' 'James' 'Joe']\n",
      " No\n",
      "['James' 'Joe']\n",
      "[[('', 0, 0, '') ('', 0, 0, '') ('', 0, 0, '')]]\n",
      "[[('Chloe', 11, 14, 'Y') ('Charl', 12, 15, 'Y') ('Clara', 13, 16, 'N')]]\n"
     ]
    }
   ],
   "source": [
    "# Fetch elements\n",
    "print(b[0])\n",
    "print(b['Name'])\n",
    "print(b[1]['True'])\n",
    "print(b[b['num2'] >= 3]['Name'])\n",
    "\n",
    "# Create zero array\n",
    "c = np.zeros((1, 3), dtype=dict_1)\n",
    "print(c)\n",
    "\n",
    "# Input values\n",
    "name = ['Chloe', 'Charlotte', 'Clara']\n",
    "num_1 = [11, 12, 13]\n",
    "num_2 = [14, 15, 16]\n",
    "check = ['Y', 'Y', 'N']\n",
    "\n",
    "c['Name'] = name\n",
    "c['num1'] = num_1\n",
    "c['num2'] = num_2\n",
    "c['True'] = check\n",
    "print(c)"
   ]
  },
  {
   "cell_type": "markdown",
   "metadata": {},
   "source": [
    "## RecordArray"
   ]
  },
  {
   "cell_type": "code",
   "execution_count": 11,
   "metadata": {},
   "outputs": [
    {
     "data": {
      "text/plain": [
       "rec.array([[('Chloe', 11, 14, 'Y'), ('Charl', 12, 15, 'Y'),\n",
       "            ('Clara', 13, 16, 'N')]],\n",
       "          dtype=[('Name', '<U5'), ('num1', '<i4'), ('num2', '<i4'), ('True', '<U4')])"
      ]
     },
     "execution_count": 11,
     "metadata": {},
     "output_type": "execute_result"
    }
   ],
   "source": [
    "c_rec = c.view(np.recarray)\n",
    "c_rec"
   ]
  },
  {
   "cell_type": "code",
   "execution_count": 12,
   "metadata": {},
   "outputs": [
    {
     "data": {
      "text/plain": [
       "array([['Chloe', 'Charl', 'Clara']], dtype='<U5')"
      ]
     },
     "execution_count": 12,
     "metadata": {},
     "output_type": "execute_result"
    }
   ],
   "source": [
    "# Fetch elements\n",
    "c_rec.Name"
   ]
  },
  {
   "cell_type": "code",
   "execution_count": null,
   "metadata": {},
   "outputs": [],
   "source": []
  }
 ],
 "metadata": {
  "kernelspec": {
   "display_name": "Python 3",
   "language": "python",
   "name": "python3"
  },
  "language_info": {
   "codemirror_mode": {
    "name": "ipython",
    "version": 3
   },
   "file_extension": ".py",
   "mimetype": "text/x-python",
   "name": "python",
   "nbconvert_exporter": "python",
   "pygments_lexer": "ipython3",
   "version": "3.7.4"
  }
 },
 "nbformat": 4,
 "nbformat_minor": 2
}
