{
 "cells": [
  {
   "cell_type": "markdown",
   "metadata": {},
   "source": [
    "## Import module"
   ]
  },
  {
   "cell_type": "code",
   "execution_count": 1,
   "metadata": {},
   "outputs": [
    {
     "name": "stdout",
     "output_type": "stream",
     "text": [
      "<module 'numpy' from 'C:\\\\Users\\\\acer\\\\Anaconda3\\\\lib\\\\site-packages\\\\numpy\\\\__init__.py'>\n",
      "1.16.5\n"
     ]
    }
   ],
   "source": [
    "# Import\n",
    "import numpy as np\n",
    "\n",
    "print(np) # <module 'numpy' from '.../numpy/__init__.py'>\n",
    "print(np.__version__) # 1.20.1"
   ]
  },
  {
   "cell_type": "markdown",
   "metadata": {},
   "source": [
    "## Found NumPy array"
   ]
  },
  {
   "cell_type": "code",
   "execution_count": 17,
   "metadata": {},
   "outputs": [
    {
     "name": "stdout",
     "output_type": "stream",
     "text": [
      "0 1 2 3 4 5 \n",
      "0 2 4 "
     ]
    }
   ],
   "source": [
    "# range()\n",
    "for i in range(0, 6):\n",
    "    print(i, end=\" \")\n",
    "print(\"\")\n",
    "\n",
    "for i in range(0, 6, 2):\n",
    "    print(i, end=\" \")"
   ]
  },
  {
   "cell_type": "code",
   "execution_count": 20,
   "metadata": {},
   "outputs": [
    {
     "name": "stdout",
     "output_type": "stream",
     "text": [
      "[0 1 2 3 4 5]\n",
      "[0. 1. 2. 3. 4. 5.]\n",
      "[0 2 4]\n"
     ]
    }
   ],
   "source": [
    "# np.arange()\n",
    "print(np.arange(6))\n",
    "print(np.arange(6.0))\n",
    "print(np.arange(0, 6, 2))"
   ]
  },
  {
   "cell_type": "code",
   "execution_count": 33,
   "metadata": {},
   "outputs": [
    {
     "name": "stdout",
     "output_type": "stream",
     "text": [
      "[ 1.  2.  3.  4.  5.  6.  7.  8.  9. 10.]\n",
      "\n",
      "(array([ 1.,  2.,  3.,  4.,  5.,  6.,  7.,  8.,  9., 10.]), 1.0)\n",
      "\n",
      "[1.   1.18 1.36 1.54 1.72 1.9  2.08 2.26 2.44 2.62 2.8  2.98 3.16 3.34\n",
      " 3.52 3.7  3.88 4.06 4.24 4.42 4.6  4.78 4.96 5.14 5.32 5.5  5.68 5.86\n",
      " 6.04 6.22 6.4  6.58 6.76 6.94 7.12 7.3  7.48 7.66 7.84 8.02 8.2  8.38\n",
      " 8.56 8.74 8.92 9.1  9.28 9.46 9.64 9.82]\n"
     ]
    }
   ],
   "source": [
    "# linspace() -> Evenly distributed\n",
    "print(np.linspace(1, 10, num=10))\n",
    "print(\"\")\n",
    "\n",
    "print(np.linspace(1, 10, num=10, retstep=True))\n",
    "print(\"\")\n",
    "\n",
    "print(np.linspace(1, 10, num=50, endpoint=False))"
   ]
  },
  {
   "cell_type": "markdown",
   "metadata": {},
   "source": [
    "## NdArray"
   ]
  },
  {
   "cell_type": "code",
   "execution_count": 42,
   "metadata": {},
   "outputs": [
    {
     "name": "stdout",
     "output_type": "stream",
     "text": [
      "[[ 0  1  2  3  4]\n",
      " [ 5  6  7  8  9]\n",
      " [10 11 12 13 14]]\n",
      "\n",
      "1: <class 'numpy.ndarray'>\n",
      "2: 2\n",
      "3: (3, 5)\n",
      "4: 15\n",
      "5: int32\n",
      "6: 4\n",
      "7: <memory at 0x0000026A0C0154A8>\n"
     ]
    }
   ],
   "source": [
    "# Found a matrix of 3x5\n",
    "array_1 = np.arange(15).reshape(3, 5)\n",
    "print(array_1)\n",
    "print(\"\")\n",
    "\n",
    "# Attributes\n",
    "print(\"1:\", type(array_1))\n",
    "print(\"2:\", array_1.ndim)\n",
    "print(\"3:\", array_1.shape)\n",
    "print(\"4:\", array_1.size)\n",
    "print(\"5:\", array_1.dtype) # Data type\n",
    "print(\"6:\", array_1.itemsize)\n",
    "print(\"7:\", array_1.data)"
   ]
  },
  {
   "cell_type": "markdown",
   "metadata": {},
   "source": [
    "## Transform array to list"
   ]
  },
  {
   "cell_type": "code",
   "execution_count": 46,
   "metadata": {},
   "outputs": [
    {
     "name": "stdout",
     "output_type": "stream",
     "text": [
      "[array([0, 1, 2, 3, 4]), array([5, 6, 7, 8, 9]), array([10, 11, 12, 13, 14])]\n",
      "[[0, 1, 2, 3, 4], [5, 6, 7, 8, 9], [10, 11, 12, 13, 14]]\n"
     ]
    }
   ],
   "source": [
    "# Only change one level per time\n",
    "print(list(array_1))\n",
    "\n",
    "# Change multiple levels at a time\n",
    "print(array_1.tolist())"
   ]
  },
  {
   "cell_type": "code",
   "execution_count": null,
   "metadata": {},
   "outputs": [],
   "source": []
  }
 ],
 "metadata": {
  "kernelspec": {
   "display_name": "Python 3",
   "language": "python",
   "name": "python3"
  },
  "language_info": {
   "codemirror_mode": {
    "name": "ipython",
    "version": 3
   },
   "file_extension": ".py",
   "mimetype": "text/x-python",
   "name": "python",
   "nbconvert_exporter": "python",
   "pygments_lexer": "ipython3",
   "version": "3.7.4"
  }
 },
 "nbformat": 4,
 "nbformat_minor": 2
}
