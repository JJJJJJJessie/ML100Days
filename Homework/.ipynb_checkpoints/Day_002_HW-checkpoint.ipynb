{
 "cells": [
  {
   "cell_type": "markdown",
   "metadata": {},
   "source": [
    "## 1. 請問 type(...) 跟 a.dtype 這兩個語法有什麼不同？"
   ]
  },
  {
   "cell_type": "code",
   "execution_count": 1,
   "metadata": {},
   "outputs": [
    {
     "name": "stdout",
     "output_type": "stream",
     "text": [
      "type(a): <class 'numpy.ndarray'> -> Return the data type of the array.\n",
      "a.dtype: int32 -> Return the data type of the elements in the array.\n"
     ]
    }
   ],
   "source": [
    "# Import\n",
    "import numpy as np\n",
    "\n",
    "# Test data\n",
    "a = np.random.randint(10, size=6) \n",
    "\n",
    "# Output\n",
    "print(\"type(a):\", type(a), \"-> Return the data type of the array.\")\n",
    "print(\"a.dtype:\", a.dtype, \"-> Return the data type of the elements in the array.\")"
   ]
  },
  {
   "cell_type": "markdown",
   "metadata": {},
   "source": [
    "## 2. 請撰寫一個判斷 array 的元素是否等於指定資料型態的函式，並且通過測試。"
   ]
  },
  {
   "cell_type": "code",
   "execution_count": 2,
   "metadata": {},
   "outputs": [
    {
     "name": "stdout",
     "output_type": "stream",
     "text": [
      "True\n",
      "True\n",
      "True\n"
     ]
    }
   ],
   "source": [
    "# Test data\n",
    "a = np.random.randint(10, size=6) \n",
    "\n",
    "# Function\n",
    "def is_dtype(a, t):\n",
    "    return a.dtype is np.dtype(t)\n",
    "\n",
    "print(is_dtype(a, 'int'))\n",
    "print(is_dtype(a, np.int))\n",
    "print(is_dtype(a, np.dtype('int')))"
   ]
  },
  {
   "cell_type": "markdown",
   "metadata": {},
   "source": [
    "## 3. 承上題，請判斷下列三種寫法為何不正確？"
   ]
  },
  {
   "cell_type": "code",
   "execution_count": 3,
   "metadata": {},
   "outputs": [],
   "source": [
    "# The object type on both sides should be the same that will be True.\n",
    "# def is_dtype(a, t):\n",
    "#     return a.dtype is t\n",
    "\n",
    "# type() is return the data type of the array, np.dtype() is return the data type of the elements in the array.\n",
    "# def is_dtype(a, t):\n",
    "#     return type(a) == np.dtype(t)\n",
    "\n",
    "# type() is return the data type of the array, np.dtype() is return the data type of the elements in the array.\n",
    "# def is_dtype(a, t):\n",
    "#     return type(a) is np.dtype(t)"
   ]
  },
  {
   "cell_type": "code",
   "execution_count": null,
   "metadata": {},
   "outputs": [],
   "source": []
  }
 ],
 "metadata": {
  "kernelspec": {
   "display_name": "Python 3",
   "language": "python",
   "name": "python3"
  },
  "language_info": {
   "codemirror_mode": {
    "name": "ipython",
    "version": 3
   },
   "file_extension": ".py",
   "mimetype": "text/x-python",
   "name": "python",
   "nbconvert_exporter": "python",
   "pygments_lexer": "ipython3",
   "version": "3.7.4"
  }
 },
 "nbformat": 4,
 "nbformat_minor": 2
}
