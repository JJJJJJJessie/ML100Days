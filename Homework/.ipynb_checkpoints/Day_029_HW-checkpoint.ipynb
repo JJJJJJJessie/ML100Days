{
 "cells": [
  {
   "cell_type": "markdown",
   "id": "0ecdcbd1",
   "metadata": {},
   "source": [
    "## 1. 大樂透的頭獎機率是屬於哪一種分配？"
   ]
  },
  {
   "cell_type": "raw",
   "id": "8a92b11c",
   "metadata": {},
   "source": [
    "Hypergeometric Distribution"
   ]
  },
  {
   "cell_type": "markdown",
   "id": "dc9b55e0",
   "metadata": {},
   "source": [
    "## 2. 計算大樂透的中頭獎機率？"
   ]
  },
  {
   "cell_type": "code",
   "execution_count": 1,
   "id": "9ac71cbc",
   "metadata": {},
   "outputs": [],
   "source": [
    "import math\n",
    "import statistics\n",
    "import numpy as np\n",
    "import pandas as pd\n",
    "from scipy import stats\n",
    "import matplotlib.pyplot as plt"
   ]
  },
  {
   "cell_type": "code",
   "execution_count": 2,
   "id": "552b79ee",
   "metadata": {},
   "outputs": [
    {
     "name": "stdout",
     "output_type": "stream",
     "text": [
      "7.151123842018523e-08\n"
     ]
    }
   ],
   "source": [
    "N = 49 # Total number\n",
    "n = 6 # Extract number\n",
    "K = 6 # Total number of objective things\n",
    "\n",
    "# Calculate p(X=x)\n",
    "# Calculate the probability mass function(pmf)\n",
    "# f(x,k,p) = [choose(K, x) * choose(N-K, n-x)] / choose(N, n)\n",
    "probs = stats.hypergeom.pmf(6, N, K, n)\n",
    "print(probs)"
   ]
  },
  {
   "cell_type": "markdown",
   "id": "0640461e",
   "metadata": {},
   "source": [
    "## 3. 你覺得電腦簽注的中獎機率，和人腦簽注相比，哪一個機率高？"
   ]
  },
  {
   "cell_type": "raw",
   "id": "3cf9f7de",
   "metadata": {},
   "source": [
    "The same."
   ]
  },
  {
   "cell_type": "code",
   "execution_count": null,
   "id": "d1fa46a0",
   "metadata": {},
   "outputs": [],
   "source": []
  }
 ],
 "metadata": {
  "kernelspec": {
   "display_name": "Python 3",
   "language": "python",
   "name": "python3"
  },
  "language_info": {
   "codemirror_mode": {
    "name": "ipython",
    "version": 3
   },
   "file_extension": ".py",
   "mimetype": "text/x-python",
   "name": "python",
   "nbconvert_exporter": "python",
   "pygments_lexer": "ipython3",
   "version": "3.7.4"
  }
 },
 "nbformat": 4,
 "nbformat_minor": 5
}
