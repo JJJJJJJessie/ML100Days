{
 "cells": [
  {
   "cell_type": "markdown",
   "metadata": {},
   "source": [
    "## 1. 請比較 np.zeros 和 np.empty 產生出來的陣列有何差異？為什麼要設計兩種方法？"
   ]
  },
  {
   "cell_type": "code",
   "execution_count": 1,
   "metadata": {},
   "outputs": [],
   "source": [
    "# Import module\n",
    "import numpy as np"
   ]
  },
  {
   "cell_type": "code",
   "execution_count": 2,
   "metadata": {},
   "outputs": [
    {
     "name": "stdout",
     "output_type": "stream",
     "text": [
      "[[0. 0. 0.]\n",
      " [0. 0. 0.]] -> Values in array are being given as zero.\n",
      "\n",
      "[[0. 0. 0.]\n",
      " [0. 0. 0.]] -> Values in array do not need to be given in advance, and values are close to zero.\n"
     ]
    }
   ],
   "source": [
    "print(np.zeros((2, 3)), \"-> Values in array are being given as zero.\")\n",
    "print(\"\")\n",
    "print(np.empty((2, 3)), \"-> Values in array do not need to be given in advance, and values are close to zero.\")"
   ]
  },
  {
   "cell_type": "markdown",
   "metadata": {},
   "source": [
    "## 2. 在不用「整數亂數方法」的限制下，如何將包含小數的轉換整數？請將給定的 a 陣列當中的元素變成去掉小數變成整數。"
   ]
  },
  {
   "cell_type": "code",
   "execution_count": 3,
   "metadata": {},
   "outputs": [
    {
     "name": "stdout",
     "output_type": "stream",
     "text": [
      "[[89. 57. 32.]\n",
      " [48. 43. 88.]]\n"
     ]
    }
   ],
   "source": [
    "a = np.random.rand(2, 3)*100\n",
    "print(a.round())"
   ]
  },
  {
   "cell_type": "markdown",
   "metadata": {},
   "source": [
    "## 3. 承上題，怎樣可以限制整數的範圍介於 m - n 之間？請將給定的 a 陣列當中的元素的範圍調整成 m - n 之間。"
   ]
  },
  {
   "cell_type": "code",
   "execution_count": 4,
   "metadata": {},
   "outputs": [
    {
     "name": "stdout",
     "output_type": "stream",
     "text": [
      "[[67. 78. 57.]\n",
      " [67. 75. 73.]]\n"
     ]
    }
   ],
   "source": [
    "# Example\n",
    "m = 50\n",
    "n = 80\n",
    "a = np.random.rand(2, 3) * (n-m) + m\n",
    "print(a.round())"
   ]
  },
  {
   "cell_type": "code",
   "execution_count": null,
   "metadata": {},
   "outputs": [],
   "source": []
  }
 ],
 "metadata": {
  "kernelspec": {
   "display_name": "Python 3",
   "language": "python",
   "name": "python3"
  },
  "language_info": {
   "codemirror_mode": {
    "name": "ipython",
    "version": 3
   },
   "file_extension": ".py",
   "mimetype": "text/x-python",
   "name": "python",
   "nbconvert_exporter": "python",
   "pygments_lexer": "ipython3",
   "version": "3.7.4"
  }
 },
 "nbformat": 4,
 "nbformat_minor": 2
}
