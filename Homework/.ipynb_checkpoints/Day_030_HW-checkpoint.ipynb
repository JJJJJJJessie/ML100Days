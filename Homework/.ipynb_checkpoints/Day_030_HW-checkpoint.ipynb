{
 "cells": [
  {
   "cell_type": "markdown",
   "id": "9535dfa4",
   "metadata": {},
   "source": [
    "## 1. 計算標準常態分配，小於1的機率有多大？"
   ]
  },
  {
   "cell_type": "code",
   "execution_count": 1,
   "id": "efa2bbc6",
   "metadata": {},
   "outputs": [],
   "source": [
    "import math\n",
    "import statistics\n",
    "import numpy as np\n",
    "import pandas as pd\n",
    "import seaborn as sns\n",
    "from scipy import stats\n",
    "import matplotlib.pyplot as plt"
   ]
  },
  {
   "cell_type": "code",
   "execution_count": 2,
   "id": "39a6fedf",
   "metadata": {},
   "outputs": [
    {
     "name": "stdout",
     "output_type": "stream",
     "text": [
      "0.8413447460685429\n"
     ]
    }
   ],
   "source": [
    "# Define the data\n",
    "mu = 0\n",
    "sigma = 1\n",
    "\n",
    "# Calculate p(X<=1)\n",
    "# Calculate the cumulative density function(cdf)\n",
    "cumsum_probs =  stats.norm.cdf(1, mu, sigma)\n",
    "print(cumsum_probs)"
   ]
  },
  {
   "cell_type": "markdown",
   "id": "898d900a",
   "metadata": {},
   "source": [
    "## 2. 計算標準常態分配，大於1，小於 -1 的機率有多大？"
   ]
  },
  {
   "cell_type": "code",
   "execution_count": 3,
   "id": "74421e0c",
   "metadata": {},
   "outputs": [
    {
     "name": "stdout",
     "output_type": "stream",
     "text": [
      "0.31731050786291415\n"
     ]
    }
   ],
   "source": [
    "# Define the data\n",
    "mu = 0\n",
    "sigma = 1\n",
    "\n",
    "# Calculate p(-1<=X<=1)\n",
    "# Calculate the cumulative density function(cdf)\n",
    "cumsum_probs =  1-(stats.norm.cdf(1, mu, sigma)-stats.norm.cdf(-1, mu, sigma))\n",
    "print(cumsum_probs)"
   ]
  },
  {
   "cell_type": "markdown",
   "id": "21dd824a",
   "metadata": {},
   "source": [
    "## 3. X~N(2,4),x 服從常態分配，平均數為2,變異數為 4，計算 X小於 6 的機率有多大？"
   ]
  },
  {
   "cell_type": "code",
   "execution_count": 4,
   "id": "b3d50bd4",
   "metadata": {},
   "outputs": [
    {
     "name": "stdout",
     "output_type": "stream",
     "text": [
      "0.9772498680518208\n"
     ]
    }
   ],
   "source": [
    "# Define the data\n",
    "mu = 2\n",
    "sigma = 2\n",
    "\n",
    "# Calculate p(X<=6)\n",
    "# Calculate the cumulative density function(cdf)\n",
    "cumsum_probs =  stats.norm.cdf(6, mu, sigma)\n",
    "print(cumsum_probs)"
   ]
  },
  {
   "cell_type": "code",
   "execution_count": null,
   "id": "266e5f6f",
   "metadata": {},
   "outputs": [],
   "source": []
  }
 ],
 "metadata": {
  "kernelspec": {
   "display_name": "Python 3",
   "language": "python",
   "name": "python3"
  },
  "language_info": {
   "codemirror_mode": {
    "name": "ipython",
    "version": 3
   },
   "file_extension": ".py",
   "mimetype": "text/x-python",
   "name": "python",
   "nbconvert_exporter": "python",
   "pygments_lexer": "ipython3",
   "version": "3.7.4"
  }
 },
 "nbformat": 4,
 "nbformat_minor": 5
}
