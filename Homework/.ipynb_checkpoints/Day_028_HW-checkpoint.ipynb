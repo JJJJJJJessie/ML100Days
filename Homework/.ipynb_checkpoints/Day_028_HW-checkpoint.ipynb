{
 "cells": [
  {
   "cell_type": "markdown",
   "id": "ab9d241a",
   "metadata": {},
   "source": [
    "## 1. 丟一個銅板，丟了100次，出現正面 50 次的機率有多大？"
   ]
  },
  {
   "cell_type": "code",
   "execution_count": 1,
   "id": "8452e279",
   "metadata": {},
   "outputs": [],
   "source": [
    "import math\n",
    "import statistics\n",
    "import numpy as np\n",
    "import pandas as pd\n",
    "from scipy import stats\n",
    "import matplotlib.pyplot as plt"
   ]
  },
  {
   "cell_type": "code",
   "execution_count": 2,
   "id": "80ad77c5",
   "metadata": {},
   "outputs": [
    {
     "name": "stdout",
     "output_type": "stream",
     "text": [
      "Prob: 0.07958923738717888\n"
     ]
    },
    {
     "data": {
      "image/png": "[encoded data removed]",
      "text/plain": [
       "<Figure size 576x432 with 1 Axes>"
      ]
     },
     "metadata": {
      "needs_background": "light"
     },
     "output_type": "display_data"
    }
   ],
   "source": [
    "# f(n,x,p) = choose(n, x) * p**x * (1-p)**(n-x)\n",
    "# Define the data\n",
    "p = 0.5\n",
    "n = 100\n",
    "x = np.arange(0, 101)\n",
    "\n",
    "# Calculate p(X=x)\n",
    "# Calculate the probability mass function(pmf)\n",
    "probs = stats.binom.pmf(x, n, p)\n",
    "print('Prob:', probs[50])\n",
    "\n",
    "# Plot\n",
    "plt.figure(figsize=(8, 6))\n",
    "plt.bar(x, probs)\n",
    "plt.ylabel('P(X=x)')\n",
    "plt.xlabel('x')\n",
    "plt.title('binomial(n=5,p=0.5)')\n",
    "plt.show()"
   ]
  },
  {
   "cell_type": "code",
   "execution_count": 3,
   "id": "84943222",
   "metadata": {},
   "outputs": [
    {
     "name": "stdout",
     "output_type": "stream",
     "text": [
      "(array(50.), array(25.), array(0.), array(-0.02))\n",
      "<class 'tuple'>\n",
      "binomial mean= 50.0\n",
      "binomial variance= 25.0\n",
      "binomial kurtosis= 0.0\n",
      "binomial skew= -0.02\n"
     ]
    }
   ],
   "source": [
    "# Calculate the mean, variance, kurtosis and skew(mvks)\n",
    "stat_bin=stats.binom.stats(n,p,moments='mvks')\n",
    "print(stat_bin)\n",
    "print(type(stat_bin))\n",
    "print(\"binomial mean=\",float(stat_bin[0]))\n",
    "print(\"binomial variance=\",float(stat_bin[1]))\n",
    "print(\"binomial kurtosis=\",float(stat_bin[2]))\n",
    "print(\"binomial skew=\",float(stat_bin[3]))"
   ]
  },
  {
   "cell_type": "code",
   "execution_count": null,
   "id": "5d5767c1",
   "metadata": {},
   "outputs": [],
   "source": []
  }
 ],
 "metadata": {
  "kernelspec": {
   "display_name": "Python 3",
   "language": "python",
   "name": "python3"
  },
  "language_info": {
   "codemirror_mode": {
    "name": "ipython",
    "version": 3
   },
   "file_extension": ".py",
   "mimetype": "text/x-python",
   "name": "python",
   "nbconvert_exporter": "python",
   "pygments_lexer": "ipython3",
   "version": "3.7.4"
  }
 },
 "nbformat": 4,
 "nbformat_minor": 5
}
