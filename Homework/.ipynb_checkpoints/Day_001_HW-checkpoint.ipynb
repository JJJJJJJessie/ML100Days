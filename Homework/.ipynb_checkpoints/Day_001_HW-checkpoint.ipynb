{
 "cells": [
  {
   "cell_type": "code",
   "execution_count": 1,
   "metadata": {},
   "outputs": [],
   "source": [
    "# Import module\n",
    "import numpy as np\n",
    "\n",
    "# Create arrays \n",
    "a = np.random.randint(10, size=6) \n",
    "b = np.random.randint(10, size=(3,4)) \n",
    "c = np.random.randint(10, size=(2,3,2)) "
   ]
  },
  {
   "cell_type": "markdown",
   "metadata": {},
   "source": [
    "## 1. 請問下列兩種將 Array 轉換成 List 的方式有何不同？"
   ]
  },
  {
   "cell_type": "code",
   "execution_count": 2,
   "metadata": {},
   "outputs": [
    {
     "name": "stdout",
     "output_type": "stream",
     "text": [
      "list():  [7, 9, 9, 3, 0, 6] -> Only change one level per time.\n",
      "tolist():  [7, 9, 9, 3, 0, 6] -> Change multiple levels at a time.\n"
     ]
    }
   ],
   "source": [
    "# list()\n",
    "print('list(): ', list(a), \"-> Only change one level per time.\") \n",
    "\n",
    "# tolist()\n",
    "print('tolist(): ', a.tolist(), \"-> Change multiple levels at a time.\")"
   ]
  },
  {
   "cell_type": "markdown",
   "metadata": {},
   "source": [
    "## 2. 請試著在程式中印出以下三個 NdArray 的屬性？\n",
    "### 屬性：ndim、shape、size、dtype、itemsize、length、type）"
   ]
  },
  {
   "cell_type": "code",
   "execution_count": 3,
   "metadata": {},
   "outputs": [
    {
     "name": "stdout",
     "output_type": "stream",
     "text": [
      "dimension: 1\n",
      "shape: (6,)\n",
      "size: 6\n",
      "data_type: int32\n",
      "itemsize: 4\n",
      "length: 6\n",
      "type: <class 'numpy.ndarray'>\n"
     ]
    }
   ],
   "source": [
    "# Attributes\n",
    "print(\"dimension:\", a.ndim)\n",
    "print(\"shape:\", a.shape)\n",
    "print(\"size:\", a.size)\n",
    "print(\"data_type:\", a.dtype) # Data type\n",
    "print(\"itemsize:\", a.itemsize)\n",
    "print(\"length:\", len(a))\n",
    "print(\"type:\", type(a))"
   ]
  },
  {
   "cell_type": "code",
   "execution_count": 4,
   "metadata": {},
   "outputs": [
    {
     "name": "stdout",
     "output_type": "stream",
     "text": [
      "dimension: 2\n",
      "shape: (3, 4)\n",
      "size: 12\n",
      "data_type: int32\n",
      "itemsize: 4\n",
      "length: 3\n",
      "type: <class 'numpy.ndarray'>\n"
     ]
    }
   ],
   "source": [
    "# Attributes\n",
    "print(\"dimension:\", b.ndim)\n",
    "print(\"shape:\", b.shape)\n",
    "print(\"size:\", b.size)\n",
    "print(\"data_type:\", b.dtype) # Data type\n",
    "print(\"itemsize:\", b.itemsize)\n",
    "print(\"length:\", len(b))\n",
    "print(\"type:\", type(b))"
   ]
  },
  {
   "cell_type": "code",
   "execution_count": 5,
   "metadata": {},
   "outputs": [
    {
     "name": "stdout",
     "output_type": "stream",
     "text": [
      "dimension: 3\n",
      "shape: (2, 3, 2)\n",
      "size: 12\n",
      "data_type: int32\n",
      "itemsize: 4\n",
      "length: 2\n",
      "type: <class 'numpy.ndarray'>\n"
     ]
    }
   ],
   "source": [
    "# Attributes\n",
    "print(\"dimension:\", c.ndim)\n",
    "print(\"shape:\", c.shape)\n",
    "print(\"size:\", c.size)\n",
    "print(\"data_type:\", c.dtype) # Data type\n",
    "print(\"itemsize:\", c.itemsize)\n",
    "print(\"length:\", len(c))\n",
    "print(\"type:\", type(c))"
   ]
  },
  {
   "cell_type": "markdown",
   "metadata": {},
   "source": [
    "## 3. 如何利用 list(...) 實現 a.tolist() 的效果？試著用程式實作。"
   ]
  },
  {
   "cell_type": "code",
   "execution_count": 6,
   "metadata": {},
   "outputs": [
    {
     "name": "stdout",
     "output_type": "stream",
     "text": [
      "a: [7, 9, 9, 3, 0, 6]\n",
      "b: [[6, 5, 6, 7], [5, 2, 0, 4], [6, 8, 3, 1]]\n",
      "c: [[[3, 2], [6, 7], [7, 1]], [[5, 9], [1, 1], [5, 5]]]\n"
     ]
    }
   ],
   "source": [
    "# Objective\n",
    "print(\"a:\", a.tolist())\n",
    "print(\"b:\", b.tolist())\n",
    "print(\"c:\", c.tolist())"
   ]
  },
  {
   "cell_type": "code",
   "execution_count": 7,
   "metadata": {},
   "outputs": [
    {
     "name": "stdout",
     "output_type": "stream",
     "text": [
      "a: [7, 9, 9, 3, 0, 6]\n",
      "b: [[6, 5, 6, 7], [5, 2, 0, 4], [6, 8, 3, 1]]\n",
      "c: [[[3, 2], [6, 7], [7, 1]], [[5, 9], [1, 1], [5, 5]]]\n"
     ]
    }
   ],
   "source": [
    "# Solution\n",
    "def tolist(array):\n",
    "    newlist = []\n",
    "    if type(array) != np.ndarray:\n",
    "        return array\n",
    "    for i in array:\n",
    "        newlist.append(tolist(i))\n",
    "    return newlist\n",
    "\n",
    "print(\"a:\", tolist(a))\n",
    "print(\"b:\", tolist(b))\n",
    "print(\"c:\", tolist(c))"
   ]
  },
  {
   "cell_type": "code",
   "execution_count": null,
   "metadata": {},
   "outputs": [],
   "source": []
  }
 ],
 "metadata": {
  "kernelspec": {
   "display_name": "Python 3",
   "language": "python",
   "name": "python3"
  },
  "language_info": {
   "codemirror_mode": {
    "name": "ipython",
    "version": 3
   },
   "file_extension": ".py",
   "mimetype": "text/x-python",
   "name": "python",
   "nbconvert_exporter": "python",
   "pygments_lexer": "ipython3",
   "version": "3.7.4"
  }
 },
 "nbformat": 4,
 "nbformat_minor": 2
}
