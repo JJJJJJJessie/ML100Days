{
 "cells": [
  {
   "cell_type": "markdown",
   "metadata": {},
   "source": [
    "## 1. 請比較對一個 1000 x 100 x 100 的陣列，使用不同方法對每一個元素 +1 的時間比較。"
   ]
  },
  {
   "cell_type": "code",
   "execution_count": 1,
   "metadata": {},
   "outputs": [],
   "source": [
    "import numpy as np\n",
    "a = np.random.randint(0, 10, 1000000).reshape(100, 100, 100)"
   ]
  },
  {
   "cell_type": "code",
   "execution_count": 2,
   "metadata": {},
   "outputs": [
    {
     "name": "stdout",
     "output_type": "stream",
     "text": [
      "32.9 ns ± 11.6 ns per loop (mean ± std. dev. of 7 runs, 10 loops each)\n"
     ]
    }
   ],
   "source": [
    "%timeit -n 10 a = 2\n",
    "\n",
    "# Solution 1\n",
    "for i in a.flat:\n",
    "    i += 1"
   ]
  },
  {
   "cell_type": "code",
   "execution_count": 3,
   "metadata": {},
   "outputs": [
    {
     "name": "stdout",
     "output_type": "stream",
     "text": [
      "84.3 ns ± 7.28 ns per loop (mean ± std. dev. of 7 runs, 10 loops each)\n"
     ]
    }
   ],
   "source": [
    "%timeit -n 10 a = 2\n",
    "\n",
    "# Solution 2\n",
    "for i in np.nditer(a):\n",
    "    i = i + 1"
   ]
  },
  {
   "cell_type": "code",
   "execution_count": 4,
   "metadata": {},
   "outputs": [
    {
     "name": "stdout",
     "output_type": "stream",
     "text": [
      "111 ns ± 6.39 ns per loop (mean ± std. dev. of 7 runs, 10 loops each)\n"
     ]
    }
   ],
   "source": [
    "%timeit -n 10 a = 2\n",
    "\n",
    "# Solution 3\n",
    "a += 1"
   ]
  },
  {
   "cell_type": "markdown",
   "metadata": {},
   "source": [
    "## 2. 如何從一個陣列中，找出出現頻率最高的數值與位置？"
   ]
  },
  {
   "cell_type": "code",
   "execution_count": 5,
   "metadata": {},
   "outputs": [
    {
     "name": "stdout",
     "output_type": "stream",
     "text": [
      "[2 8 2 6 3 3 9 0 8 1 9 6 4 1 2 7 4 0 4 1 0 9 9 3 1 7 9 6 6 7 5 2 9 8 6 1 1\n",
      " 0 9 9 8 9 7 9 2 3 4 2 8 1]\n"
     ]
    }
   ],
   "source": [
    "b = np.random.randint(0,10,50)\n",
    "print(b)"
   ]
  },
  {
   "cell_type": "code",
   "execution_count": 6,
   "metadata": {},
   "outputs": [
    {
     "name": "stdout",
     "output_type": "stream",
     "text": [
      "Mode:   9\n",
      "Counts: 10\n",
      "Index:  (array([ 6, 10, 21, 22, 26, 32, 38, 39, 41, 43], dtype=int64),)\n"
     ]
    }
   ],
   "source": [
    "# Solution 1\n",
    "# Count the numbers of each value shows\n",
    "counts = np.bincount(b) \n",
    "\n",
    "# Return index\n",
    "max_value = np.argmax(counts) \n",
    "     \n",
    "print(\"Mode:  \", max_value)\n",
    "print(\"Counts:\", np.max(counts))\n",
    "print(\"Index: \", np.where(b == max_value))"
   ]
  },
  {
   "cell_type": "code",
   "execution_count": 7,
   "metadata": {},
   "outputs": [
    {
     "name": "stdout",
     "output_type": "stream",
     "text": [
      "Mode:   9\n",
      "Counts: 10\n",
      "Index:  (array([ 6, 10, 21, 22, 26, 32, 38, 39, 41, 43], dtype=int64),)\n"
     ]
    }
   ],
   "source": [
    "# Solution 2\n",
    "from scipy import stats\n",
    "\n",
    "print(\"Mode:  \", stats.mode(b)[0][0])\n",
    "print(\"Counts:\", stats.mode(b)[1][0])\n",
    "print(\"Index: \", np.where(b == stats.mode(b)[0][0]))"
   ]
  },
  {
   "cell_type": "markdown",
   "metadata": {},
   "source": [
    "## 3. 如何利用 list(...) 實現 a.tolist() 的效果？試著用程式實作。"
   ]
  },
  {
   "cell_type": "code",
   "execution_count": 8,
   "metadata": {},
   "outputs": [
    {
     "name": "stdout",
     "output_type": "stream",
     "text": [
      "list(a): a.tolist: [4, 7, 9, 8, 8, 4]\n",
      "list(b): b.tolist: [[2, 7, 2, 0], [9, 1, 4, 6], [0, 1, 3, 5]]\n",
      "list(c): c.tolist: [[[6, 9], [3, 4], [0, 3]], [[7, 7], [3, 5], [7, 1]]]\n"
     ]
    }
   ],
   "source": [
    "a = np.random.randint(10, size=6) \n",
    "b = np.random.randint(10, size=(3,4)) \n",
    "c = np.random.randint(10, size=(2,3,2)) \n",
    "\n",
    "\n",
    "def list(iterable):\n",
    "    return iterable.tolist()\n",
    "\n",
    "print('list(a): a.tolist:', list(a))\n",
    "print('list(b): b.tolist:', list(b))\n",
    "print('list(c): c.tolist:', list(c))"
   ]
  },
  {
   "cell_type": "code",
   "execution_count": null,
   "metadata": {},
   "outputs": [],
   "source": []
  }
 ],
 "metadata": {
  "kernelspec": {
   "display_name": "Python 3",
   "language": "python",
   "name": "python3"
  },
  "language_info": {
   "codemirror_mode": {
    "name": "ipython",
    "version": 3
   },
   "file_extension": ".py",
   "mimetype": "text/x-python",
   "name": "python",
   "nbconvert_exporter": "python",
   "pygments_lexer": "ipython3",
   "version": "3.7.4"
  }
 },
 "nbformat": 4,
 "nbformat_minor": 2
}
