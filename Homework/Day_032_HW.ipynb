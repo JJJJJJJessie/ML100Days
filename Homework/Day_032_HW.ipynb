{
 "cells": [
  {
   "cell_type": "markdown",
   "id": "04a79ad7",
   "metadata": {},
   "source": [
    "## 1. 吃減肥藥能在一個月內瘦超過十公斤，請試著寫出 H0 與 H1。"
   ]
  },
  {
   "cell_type": "raw",
   "id": "7baedd2f",
   "metadata": {},
   "source": [
    "H0: It can not lose ten kilograms by weight loss pills in one month.\n",
    "H1: It can lose ten kilograms by weight loss pills in one month."
   ]
  },
  {
   "cell_type": "markdown",
   "id": "133746f8",
   "metadata": {},
   "source": [
    "## 2. 一位速食店店長認為其品牌在市場之佔有率至多為 12%，於是該店長進行一個市場調查，一共訪問了 3000 位消費者，其中有311位表示喜歡該品牌，請試著寫出 H0 與 H1。"
   ]
  },
  {
   "cell_type": "raw",
   "id": "ed1b8035",
   "metadata": {},
   "source": [
    "H0: P(Market share) > 0.12\n",
    "H1: P(Market share) <= 0.12"
   ]
  },
  {
   "cell_type": "code",
   "execution_count": null,
   "id": "ec5b0f4f",
   "metadata": {},
   "outputs": [],
   "source": []
  }
 ],
 "metadata": {
  "kernelspec": {
   "display_name": "Python 3",
   "language": "python",
   "name": "python3"
  },
  "language_info": {
   "codemirror_mode": {
    "name": "ipython",
    "version": 3
   },
   "file_extension": ".py",
   "mimetype": "text/x-python",
   "name": "python",
   "nbconvert_exporter": "python",
   "pygments_lexer": "ipython3",
   "version": "3.7.4"
  }
 },
 "nbformat": 4,
 "nbformat_minor": 5
}
