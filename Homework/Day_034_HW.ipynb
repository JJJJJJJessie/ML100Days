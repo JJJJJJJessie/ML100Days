{
 "cells": [
  {
   "cell_type": "markdown",
   "id": "1e312a8f",
   "metadata": {},
   "source": [
    "某工廠想知道兩條不同的生產線的產品不良率是否有所不同，由兩條生產線中各抽取 300 個樣本，第一組有 75 個不良品，第二組有 30 個不良品，我們可以宣稱生產線所生產出的產品不良率不相同？(以 0.05 為顯著水準)？"
   ]
  },
  {
   "cell_type": "code",
   "execution_count": 1,
   "id": "34fa7a53",
   "metadata": {},
   "outputs": [
    {
     "data": {
      "text/plain": [
       "(4.834937784152282, 1.3318728439003627e-06)"
      ]
     },
     "execution_count": 1,
     "metadata": {},
     "output_type": "execute_result"
    }
   ],
   "source": [
    "import statsmodels.stats.proportion\n",
    "\n",
    "# The number of unqualified samples respectively\n",
    "A = [75, 30]\n",
    "\n",
    "# The number of sampling for each other\n",
    "B = [300, 300]\n",
    "\n",
    "# H0: sample1 = sample2\n",
    "# H1: sample1 != sample2\n",
    "statsmodels.stats.proportion.proportions_ztest(A, B, alternative='two-sided') # Reject h0, yield loss are different."
   ]
  },
  {
   "cell_type": "code",
   "execution_count": null,
   "id": "7ffd02f3",
   "metadata": {},
   "outputs": [],
   "source": []
  }
 ],
 "metadata": {
  "kernelspec": {
   "display_name": "Python 3",
   "language": "python",
   "name": "python3"
  },
  "language_info": {
   "codemirror_mode": {
    "name": "ipython",
    "version": 3
   },
   "file_extension": ".py",
   "mimetype": "text/x-python",
   "name": "python",
   "nbconvert_exporter": "python",
   "pygments_lexer": "ipython3",
   "version": "3.7.4"
  }
 },
 "nbformat": 4,
 "nbformat_minor": 5
}
