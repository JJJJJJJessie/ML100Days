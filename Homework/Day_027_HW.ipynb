{
 "cells": [
  {
   "cell_type": "markdown",
   "id": "e68ccb36",
   "metadata": {},
   "source": [
    "## 1. 如何描述這兩組資料的樣態？"
   ]
  },
  {
   "cell_type": "code",
   "execution_count": 1,
   "id": "542cc554",
   "metadata": {},
   "outputs": [],
   "source": [
    "import math\n",
    "import statistics\n",
    "import numpy as np\n",
    "import pandas as pd\n",
    "import seaborn as sns\n",
    "from scipy import stats\n",
    "import matplotlib.pyplot as plt"
   ]
  },
  {
   "cell_type": "code",
   "execution_count": 2,
   "id": "7c048f80",
   "metadata": {},
   "outputs": [],
   "source": [
    "boy=np.array([164,176,169,169,165,175,159,151,144,160,183,165,156,170,164,173,165,163,177,171])\n",
    "girl=np.array([169,183,170,168,182,170,173,185,151,156,162,169,162,181,159,154,167,175,170,160])"
   ]
  },
  {
   "cell_type": "code",
   "execution_count": 3,
   "id": "e09271f1",
   "metadata": {},
   "outputs": [
    {
     "data": {
      "image/png": "[encoded data removed]",
      "text/plain": [
       "<Figure size 432x288 with 1 Axes>"
      ]
     },
     "metadata": {
      "needs_background": "light"
     },
     "output_type": "display_data"
    }
   ],
   "source": [
    "plt.hist(boy, alpha=.4)\n",
    "plt.axvline(x=np.mean(boy))\n",
    "\n",
    "plt.hist(girl,color=sns.desaturate(\"indianred\", .8), alpha=.4)\n",
    "plt.axvline(x=np.mean(girl), color=sns.desaturate(\"indianred\", .8))\n",
    "\n",
    "plt.title(\"all samples\")\n",
    "plt.show()"
   ]
  },
  {
   "cell_type": "code",
   "execution_count": 4,
   "id": "e267f951",
   "metadata": {},
   "outputs": [],
   "source": [
    "mean = np.mean(boy)\n",
    "median = np.median(boy)\n",
    "mode = statistics.mode(boy)\n",
    "xrange = np.max(boy)-np.min(boy)\n",
    "std = np.std(boy, ddof=1)\n",
    "var = np.var(boy, ddof=1)\n",
    "skew = stats.skew(boy)\n",
    "kurtosis = stats.kurtosis(boy)\n",
    "\n",
    "boys = [{'mean':mean, 'median':median, 'mode':mode, 'xrange':xrange, \n",
    "         'std':std, 'var':var, 'skew':skew, 'kurtosis':kurtosis}]"
   ]
  },
  {
   "cell_type": "code",
   "execution_count": 5,
   "id": "1b34740d",
   "metadata": {},
   "outputs": [],
   "source": [
    "mean = np.mean(girl)\n",
    "median = np.median(girl)\n",
    "mode = statistics.mode(girl)\n",
    "xrange = np.max(girl)-np.min(girl)\n",
    "std = np.std(girl, ddof=1)\n",
    "var = np.var(girl, ddof=1)\n",
    "skew = stats.skew(girl)\n",
    "kurtosis = stats.kurtosis(girl)\n",
    "\n",
    "girls = [{'mean':mean, 'median':median, 'mode':mode, 'xrange':xrange, \n",
    "          'std':std, 'var':var, 'skew':skew, 'kurtosis':kurtosis}]"
   ]
  },
  {
   "cell_type": "code",
   "execution_count": 6,
   "id": "0014fb3f",
   "metadata": {},
   "outputs": [
    {
     "data": {
      "text/html": [
       "<div>\n",
       "<style scoped>\n",
       "    .dataframe tbody tr th:only-of-type {\n",
       "        vertical-align: middle;\n",
       "    }\n",
       "\n",
       "    .dataframe tbody tr th {\n",
       "        vertical-align: top;\n",
       "    }\n",
       "\n",
       "    .dataframe thead th {\n",
       "        text-align: right;\n",
       "    }\n",
       "</style>\n",
       "<table border=\"1\" class=\"dataframe\">\n",
       "  <thead>\n",
       "    <tr style=\"text-align: right;\">\n",
       "      <th></th>\n",
       "      <th>mean</th>\n",
       "      <th>median</th>\n",
       "      <th>mode</th>\n",
       "      <th>xrange</th>\n",
       "      <th>std</th>\n",
       "      <th>var</th>\n",
       "      <th>skew</th>\n",
       "      <th>kurtosis</th>\n",
       "    </tr>\n",
       "  </thead>\n",
       "  <tbody>\n",
       "    <tr>\n",
       "      <th>boys</th>\n",
       "      <td>165.95</td>\n",
       "      <td>165.0</td>\n",
       "      <td>165</td>\n",
       "      <td>39</td>\n",
       "      <td>9.213691</td>\n",
       "      <td>84.892105</td>\n",
       "      <td>-0.471321</td>\n",
       "      <td>0.193959</td>\n",
       "    </tr>\n",
       "    <tr>\n",
       "      <th>girls</th>\n",
       "      <td>168.30</td>\n",
       "      <td>169.0</td>\n",
       "      <td>170</td>\n",
       "      <td>34</td>\n",
       "      <td>9.766215</td>\n",
       "      <td>95.378947</td>\n",
       "      <td>0.059853</td>\n",
       "      <td>-0.820361</td>\n",
       "    </tr>\n",
       "  </tbody>\n",
       "</table>\n",
       "</div>"
      ],
      "text/plain": [
       "         mean  median  mode  xrange       std        var      skew  kurtosis\n",
       "boys   165.95   165.0   165      39  9.213691  84.892105 -0.471321  0.193959\n",
       "girls  168.30   169.0   170      34  9.766215  95.378947  0.059853 -0.820361"
      ]
     },
     "execution_count": 6,
     "metadata": {},
     "output_type": "execute_result"
    }
   ],
   "source": [
    "boys = pd.DataFrame(boys, index=['boys'])\n",
    "girls = pd.DataFrame(girls, index=['girls'])\n",
    "pd.concat([boys, girls], axis=0)"
   ]
  },
  {
   "cell_type": "markdown",
   "id": "ae84d214",
   "metadata": {},
   "source": [
    "## 2. 男生和女生在平均身高上誰比較高？"
   ]
  },
  {
   "cell_type": "code",
   "execution_count": 7,
   "id": "66539211",
   "metadata": {},
   "outputs": [
    {
     "data": {
      "text/plain": [
       "True"
      ]
     },
     "execution_count": 7,
     "metadata": {},
     "output_type": "execute_result"
    }
   ],
   "source": [
    "# Mean of girls are higher.\n",
    "(np.mean(girls)>np.mean(boys))[0]"
   ]
  },
  {
   "cell_type": "markdown",
   "id": "88a04f25",
   "metadata": {},
   "source": [
    "## 3. 第二題的答案和日常生活中觀察的一致嗎? 如果不一致，你覺得原因可能為何？"
   ]
  },
  {
   "cell_type": "code",
   "execution_count": 8,
   "id": "f5309cda",
   "metadata": {},
   "outputs": [],
   "source": [
    "# The result is different to the usual life, it may due to the error of sampling."
   ]
  },
  {
   "cell_type": "code",
   "execution_count": null,
   "id": "286d4625",
   "metadata": {},
   "outputs": [],
   "source": []
  }
 ],
 "metadata": {
  "kernelspec": {
   "display_name": "Python 3",
   "language": "python",
   "name": "python3"
  },
  "language_info": {
   "codemirror_mode": {
    "name": "ipython",
    "version": 3
   },
   "file_extension": ".py",
   "mimetype": "text/x-python",
   "name": "python",
   "nbconvert_exporter": "python",
   "pygments_lexer": "ipython3",
   "version": "3.7.4"
  }
 },
 "nbformat": 4,
 "nbformat_minor": 5
}
