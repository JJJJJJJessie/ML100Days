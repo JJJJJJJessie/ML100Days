{
 "cells": [
  {
   "cell_type": "markdown",
   "metadata": {},
   "source": [
    "## 1. 請問下列這三種方法有什麼不同？"
   ]
  },
  {
   "cell_type": "code",
   "execution_count": 1,
   "metadata": {},
   "outputs": [
    {
     "name": "stdout",
     "output_type": "stream",
     "text": [
      "88 -> Sum of all elements in array.\n",
      "88 -> Sum of all elements in array.\n",
      "88 -> Retuen sum of axis = 0.\n"
     ]
    }
   ],
   "source": [
    "import numpy as np\n",
    "\n",
    "# Example\n",
    "a = np.arange(4, 20, 2)\n",
    "\n",
    "print(a.sum(), \"-> Sum of all elements in array.\")\n",
    "print(np.sum(a), \"-> Sum of all elements in array.\")\n",
    "print(sum(a), \"-> Retuen sum of axis = 0.\")"
   ]
  },
  {
   "cell_type": "markdown",
   "metadata": {},
   "source": [
    "## 2. 請對一個 5x5 的隨機矩陣作正規化的操作。"
   ]
  },
  {
   "cell_type": "code",
   "execution_count": 2,
   "metadata": {},
   "outputs": [
    {
     "data": {
      "text/plain": [
       "array([[9.44963677e+01, 5.96889459e+00, 2.18572376e+01, 9.21407667e+00,\n",
       "        4.57181647e-02],\n",
       "       [3.73265219e+01, 8.71354840e+01, 2.60421201e+01, 2.04721070e+01,\n",
       "        8.65956573e+01],\n",
       "       [7.13841162e+01, 6.43250620e+01, 6.51643699e+01, 1.35410960e+01,\n",
       "        1.97078593e+01],\n",
       "       [3.39194568e+01, 8.36035704e+01, 1.13898658e+01, 1.72381907e+01,\n",
       "        2.43679514e+01],\n",
       "       [7.97292172e+01, 9.72471005e+01, 7.05759068e+01, 6.43851224e+01,\n",
       "        2.23987249e+01]])"
      ]
     },
     "execution_count": 2,
     "metadata": {},
     "output_type": "execute_result"
    }
   ],
   "source": [
    "# Normalization -> Guarantees all features will have the exact same scale but does not handle outliers well.\n",
    "b = np.random.random((5, 5)) * 100\n",
    "b"
   ]
  },
  {
   "cell_type": "code",
   "execution_count": 3,
   "metadata": {},
   "outputs": [
    {
     "data": {
      "text/plain": [
       "array([[0.97170068, 0.06093716, 0.22439516, 0.09432333, 0.        ],\n",
       "       [0.38354191, 0.8959725 , 0.26744889, 0.21014505, 0.89041881],\n",
       "       [0.7339237 , 0.66130072, 0.66993545, 0.13883936, 0.20228253],\n",
       "       [0.3484903 , 0.85963646, 0.11670768, 0.17687477, 0.25022518],\n",
       "       [0.81977743, 1.        , 0.72560891, 0.66191861, 0.22996593]])"
      ]
     },
     "execution_count": 3,
     "metadata": {},
     "output_type": "execute_result"
    }
   ],
   "source": [
    "# Solution 1 -> Array\n",
    "nom = (b - np.min(b)) / (np.max(b) - np.min(b))\n",
    "nom"
   ]
  },
  {
   "cell_type": "code",
   "execution_count": 4,
   "metadata": {},
   "outputs": [
    {
     "data": {
      "text/plain": [
       "array([[1.        , 0.        , 0.17685541, 0.        , 0.        ],\n",
       "       [0.05624363, 0.88922201, 0.24756267, 0.20405686, 1.        ],\n",
       "       [0.61846434, 0.63932203, 0.90856735, 0.07842917, 0.22717683],\n",
       "       [0.        , 0.85052806, 0.        , 0.14544067, 0.28101965],\n",
       "       [0.75622477, 1.        , 1.        , 1.        , 0.25826716]])"
      ]
     },
     "execution_count": 4,
     "metadata": {},
     "output_type": "execute_result"
    }
   ],
   "source": [
    "# Solution 2 -> Every column\n",
    "from sklearn import preprocessing\n",
    "\n",
    "nom2 = preprocessing.MinMaxScaler()\n",
    "nom2.fit_transform(b)"
   ]
  },
  {
   "cell_type": "markdown",
   "metadata": {},
   "source": [
    "## 3. 請建立一個長度等於 10 的正整數向量，並且將其中的最大值改成 -1。"
   ]
  },
  {
   "cell_type": "code",
   "execution_count": 5,
   "metadata": {},
   "outputs": [
    {
     "name": "stdout",
     "output_type": "stream",
     "text": [
      "[17 30 69 34 75 94 16 49 56 65]\n",
      "94\n"
     ]
    }
   ],
   "source": [
    "# Example\n",
    "c = np.random.randint(0, 100, 10)\n",
    "print(c)\n",
    "print(np.max(c))"
   ]
  },
  {
   "cell_type": "code",
   "execution_count": 6,
   "metadata": {},
   "outputs": [
    {
     "data": {
      "text/plain": [
       "array([17, 30, 69, 34, 75, -1, 16, 49, 56, 65])"
      ]
     },
     "execution_count": 6,
     "metadata": {},
     "output_type": "execute_result"
    }
   ],
   "source": [
    "c[np.argmax(c)] = -1\n",
    "c"
   ]
  },
  {
   "cell_type": "code",
   "execution_count": null,
   "metadata": {},
   "outputs": [],
   "source": []
  }
 ],
 "metadata": {
  "kernelspec": {
   "display_name": "Python 3",
   "language": "python",
   "name": "python3"
  },
  "language_info": {
   "codemirror_mode": {
    "name": "ipython",
    "version": 3
   },
   "file_extension": ".py",
   "mimetype": "text/x-python",
   "name": "python",
   "nbconvert_exporter": "python",
   "pygments_lexer": "ipython3",
   "version": "3.7.4"
  }
 },
 "nbformat": 4,
 "nbformat_minor": 2
}
