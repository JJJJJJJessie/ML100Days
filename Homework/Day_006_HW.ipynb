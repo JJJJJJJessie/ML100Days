{
 "cells": [
  {
   "cell_type": "markdown",
   "metadata": {},
   "source": [
    "## 1. 請問下列這三種方法有什麼不同？"
   ]
  },
  {
   "cell_type": "code",
   "execution_count": 1,
   "metadata": {},
   "outputs": [
    {
     "name": "stdout",
     "output_type": "stream",
     "text": [
      "88 -> Sum of all elements in array.\n",
      "88 -> Sum of all elements in array.\n",
      "88 -> Retuen sum of axis = 0.\n"
     ]
    }
   ],
   "source": [
    "import numpy as np\n",
    "\n",
    "# Example\n",
    "a = np.arange(4, 20, 2)\n",
    "\n",
    "print(a.sum(), \"-> Sum of all elements in array.\")\n",
    "print(np.sum(a), \"-> Sum of all elements in array.\")\n",
    "print(sum(a), \"-> Retuen sum of axis = 0.\")"
   ]
  },
  {
   "cell_type": "markdown",
   "metadata": {},
   "source": [
    "## 2. 請對一個 5x5 的隨機矩陣作正規化的操作。"
   ]
  },
  {
   "cell_type": "code",
   "execution_count": 2,
   "metadata": {},
   "outputs": [
    {
     "data": {
      "text/plain": [
       "array([[ 0.20736022, 49.62006406, 73.07343222, 44.38228859, 35.05393804],\n",
       "       [72.907496  , 43.21468702, 89.80841435, 26.04591812, 70.86160222],\n",
       "       [23.77642079, 89.01440099, 39.92547602, 98.47098371, 95.99520828],\n",
       "       [41.37491911, 43.51878056, 44.41522716, 96.37873592, 94.97861458],\n",
       "       [19.20861986, 19.2455352 ,  7.8125058 , 41.11960299, 75.98878053]])"
      ]
     },
     "execution_count": 2,
     "metadata": {},
     "output_type": "execute_result"
    }
   ],
   "source": [
    "# Normalization -> Guarantees all features will have the exact same scale but does not handle outliers well.\n",
    "b = np.random.random((5, 5)) * 100\n",
    "b"
   ]
  },
  {
   "cell_type": "code",
   "execution_count": 3,
   "metadata": {},
   "outputs": [
    {
     "data": {
      "text/plain": [
       "array([[0.        , 0.50285856, 0.74153659, 0.44955526, 0.35462338],\n",
       "       [0.7398479 , 0.43767292, 0.91184358, 0.26295141, 0.71902744],\n",
       "       [0.2398554 , 0.90376314, 0.40419958, 1.        , 0.97480476],\n",
       "       [0.41895014, 0.44076759, 0.44989046, 0.97870781, 0.96445919],\n",
       "       [0.19337023, 0.19374591, 0.07739533, 0.41635186, 0.77120523]])"
      ]
     },
     "execution_count": 3,
     "metadata": {},
     "output_type": "execute_result"
    }
   ],
   "source": [
    "# Solution 1 -> Array\n",
    "nom = (b - np.min(b)) / (np.max(b) - np.min(b))\n",
    "nom"
   ]
  },
  {
   "cell_type": "code",
   "execution_count": 4,
   "metadata": {},
   "outputs": [
    {
     "data": {
      "text/plain": [
       "array([[0.        , 0.43535936, 0.79590467, 0.25317713, 0.        ],\n",
       "       [1.        , 0.34355083, 1.        , 0.        , 0.5875766 ],\n",
       "       [0.32419555, 1.        , 0.39164113, 1.        , 1.        ],\n",
       "       [0.56626523, 0.34790942, 0.44639692, 0.97111155, 0.98331847],\n",
       "       [0.26136484, 0.        , 0.        , 0.20812801, 0.6717097 ]])"
      ]
     },
     "execution_count": 4,
     "metadata": {},
     "output_type": "execute_result"
    }
   ],
   "source": [
    "# Solution 2 -> Every column\n",
    "from sklearn import preprocessing\n",
    "\n",
    "nom2 = preprocessing.MinMaxScaler()\n",
    "nom2.fit_transform(b)"
   ]
  },
  {
   "cell_type": "markdown",
   "metadata": {},
   "source": [
    "## 3. 請建立一個長度等於 10 的正整數向量，並且將其中的最大值改成 -1。"
   ]
  },
  {
   "cell_type": "code",
   "execution_count": 5,
   "metadata": {},
   "outputs": [
    {
     "name": "stdout",
     "output_type": "stream",
     "text": [
      "[20 14 17 81 60 49 81 85 98 28]\n",
      "98\n"
     ]
    }
   ],
   "source": [
    "# Example\n",
    "c = np.random.randint(0, 100, 10)\n",
    "print(c)\n",
    "print(np.max(c))"
   ]
  },
  {
   "cell_type": "code",
   "execution_count": 6,
   "metadata": {},
   "outputs": [
    {
     "data": {
      "text/plain": [
       "array([20, 14, 17, 81, 60, 49, 81, 85, -1, 28])"
      ]
     },
     "execution_count": 6,
     "metadata": {},
     "output_type": "execute_result"
    }
   ],
   "source": [
    "c[np.argmax(c)] = -1\n",
    "c"
   ]
  },
  {
   "cell_type": "code",
   "execution_count": null,
   "metadata": {},
   "outputs": [],
   "source": []
  }
 ],
 "metadata": {
  "kernelspec": {
   "display_name": "Python 3",
   "language": "python",
   "name": "python3"
  },
  "language_info": {
   "codemirror_mode": {
    "name": "ipython",
    "version": 3
   },
   "file_extension": ".py",
   "mimetype": "text/x-python",
   "name": "python",
   "nbconvert_exporter": "python",
   "pygments_lexer": "ipython3",
   "version": "3.7.4"
  }
 },
 "nbformat": 4,
 "nbformat_minor": 2
}
