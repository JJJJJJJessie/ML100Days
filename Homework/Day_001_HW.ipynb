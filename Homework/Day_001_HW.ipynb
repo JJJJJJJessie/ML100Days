{
 "cells": [
  {
   "cell_type": "code",
   "execution_count": 1,
   "metadata": {},
   "outputs": [],
   "source": [
    "# Import module\n",
    "import numpy as np\n",
    "\n",
    "# Create arrays \n",
    "a = np.random.randint(10, size=6) \n",
    "b = np.random.randint(10, size=(3,4)) \n",
    "c = np.random.randint(10, size=(2,3,2)) "
   ]
  },
  {
   "cell_type": "markdown",
   "metadata": {},
   "source": [
    "## 1. 請問下列兩種將 Array 轉換成 List 的方式有何不同？"
   ]
  },
  {
   "cell_type": "code",
   "execution_count": 2,
   "metadata": {},
   "outputs": [
    {
     "name": "stdout",
     "output_type": "stream",
     "text": [
      "list():  [6, 2, 2, 7, 8, 2] -> Only change one level per time.\n",
      "tolist():  [6, 2, 2, 7, 8, 2] -> Change multiple levels at a time.\n"
     ]
    }
   ],
   "source": [
    "# list()\n",
    "print('list(): ', list(a), \"-> Only change one level per time.\") \n",
    "\n",
    "# tolist()\n",
    "print('tolist(): ', a.tolist(), \"-> Change multiple levels at a time.\")"
   ]
  },
  {
   "cell_type": "markdown",
   "metadata": {},
   "source": [
    "## 2. 請試著在程式中印出以下三個 NdArray 的屬性？\n",
    "### 屬性：ndim、shape、size、dtype、itemsize、length、type）"
   ]
  },
  {
   "cell_type": "code",
   "execution_count": 3,
   "metadata": {},
   "outputs": [
    {
     "name": "stdout",
     "output_type": "stream",
     "text": [
      "dimension: 1\n",
      "shape: (6,)\n",
      "size: 6\n",
      "data_type: int32\n",
      "itemsize: 4\n",
      "length: 6\n",
      "type: <class 'numpy.ndarray'>\n"
     ]
    }
   ],
   "source": [
    "# Attributes\n",
    "print(\"dimension:\", a.ndim)\n",
    "print(\"shape:\", a.shape)\n",
    "print(\"size:\", a.size)\n",
    "print(\"data_type:\", a.dtype) # Data type\n",
    "print(\"itemsize:\", a.itemsize)\n",
    "print(\"length:\", len(a))\n",
    "print(\"type:\", type(a))"
   ]
  },
  {
   "cell_type": "code",
   "execution_count": 4,
   "metadata": {},
   "outputs": [
    {
     "name": "stdout",
     "output_type": "stream",
     "text": [
      "dimension: 2\n",
      "shape: (3, 4)\n",
      "size: 12\n",
      "data_type: int32\n",
      "itemsize: 4\n",
      "length: 3\n",
      "type: <class 'numpy.ndarray'>\n"
     ]
    }
   ],
   "source": [
    "# Attributes\n",
    "print(\"dimension:\", b.ndim)\n",
    "print(\"shape:\", b.shape)\n",
    "print(\"size:\", b.size)\n",
    "print(\"data_type:\", b.dtype) # Data type\n",
    "print(\"itemsize:\", b.itemsize)\n",
    "print(\"length:\", len(b))\n",
    "print(\"type:\", type(b))"
   ]
  },
  {
   "cell_type": "code",
   "execution_count": 5,
   "metadata": {},
   "outputs": [
    {
     "name": "stdout",
     "output_type": "stream",
     "text": [
      "dimension: 3\n",
      "shape: (2, 3, 2)\n",
      "size: 12\n",
      "data_type: int32\n",
      "itemsize: 4\n",
      "length: 2\n",
      "type: <class 'numpy.ndarray'>\n"
     ]
    }
   ],
   "source": [
    "# Attributes\n",
    "print(\"dimension:\", c.ndim)\n",
    "print(\"shape:\", c.shape)\n",
    "print(\"size:\", c.size)\n",
    "print(\"data_type:\", c.dtype) # Data type\n",
    "print(\"itemsize:\", c.itemsize)\n",
    "print(\"length:\", len(c))\n",
    "print(\"type:\", type(c))"
   ]
  },
  {
   "cell_type": "markdown",
   "metadata": {},
   "source": [
    "## 3. 如何利用 list(...) 實現 a.tolist() 的效果？試著用程式實作。"
   ]
  },
  {
   "cell_type": "code",
   "execution_count": 6,
   "metadata": {},
   "outputs": [
    {
     "data": {
      "text/plain": [
       "[6, 2, 2, 7, 8, 2]"
      ]
     },
     "execution_count": 6,
     "metadata": {},
     "output_type": "execute_result"
    }
   ],
   "source": [
    "# Objective\n",
    "a.tolist()"
   ]
  },
  {
   "cell_type": "code",
   "execution_count": 7,
   "metadata": {},
   "outputs": [
    {
     "name": "stdout",
     "output_type": "stream",
     "text": [
      "[6, 2, 2, 7, 8, 2]\n"
     ]
    }
   ],
   "source": [
    "new = []\n",
    "if a.ndim == 1 :\n",
    "    for i in a:\n",
    "        new.append(i)\n",
    "elif a.ndim == 2:\n",
    "    for i in range(a.shape[0]):\n",
    "        new.append(list(a[i]))\n",
    "elif a.ndim == 3:\n",
    "    for i in range(a.shape[0]):\n",
    "        for j in range(a.shape[1]):\n",
    "            new.append(list(a[i][j]))\n",
    "print(new)"
   ]
  },
  {
   "cell_type": "code",
   "execution_count": 8,
   "metadata": {},
   "outputs": [
    {
     "data": {
      "text/plain": [
       "[[4, 8, 2, 2], [4, 9, 1, 6], [8, 2, 7, 3]]"
      ]
     },
     "execution_count": 8,
     "metadata": {},
     "output_type": "execute_result"
    }
   ],
   "source": [
    "# Objective\n",
    "b.tolist()"
   ]
  },
  {
   "cell_type": "code",
   "execution_count": 9,
   "metadata": {},
   "outputs": [
    {
     "name": "stdout",
     "output_type": "stream",
     "text": [
      "[[4, 8, 2, 2], [4, 9, 1, 6], [8, 2, 7, 3]]\n"
     ]
    }
   ],
   "source": [
    "new = []\n",
    "if b.ndim == 1 :\n",
    "    for i in b:\n",
    "        new.append(i)\n",
    "elif b.ndim == 2:\n",
    "    for i in range(b.shape[0]):\n",
    "        new.append(list(b[i]))\n",
    "elif b.ndim == 3:\n",
    "    for i in range(b.shape[0]):\n",
    "        for j in range(b.shape[1]):\n",
    "            new.append(list(b[i][j]))\n",
    "print(new)"
   ]
  },
  {
   "cell_type": "code",
   "execution_count": 10,
   "metadata": {},
   "outputs": [
    {
     "data": {
      "text/plain": [
       "[[[4, 9], [0, 5], [9, 4]], [[5, 5], [6, 7], [4, 6]]]"
      ]
     },
     "execution_count": 10,
     "metadata": {},
     "output_type": "execute_result"
    }
   ],
   "source": [
    "# Objective\n",
    "c.tolist()"
   ]
  },
  {
   "cell_type": "code",
   "execution_count": 11,
   "metadata": {},
   "outputs": [
    {
     "name": "stdout",
     "output_type": "stream",
     "text": [
      "[[4, 9], [0, 5], [9, 4], [5, 5], [6, 7], [4, 6]]\n"
     ]
    }
   ],
   "source": [
    "new = []\n",
    "if c.ndim == 1 :\n",
    "    for i in c:\n",
    "        new.append(i)\n",
    "elif c.ndim == 2:\n",
    "    for i in range(c.shape[0]):\n",
    "        new.append(list(c[i]))\n",
    "elif c.ndim == 3:\n",
    "    for i in range(c.shape[0]):\n",
    "        for j in range(c.shape[1]):\n",
    "            new.append(list(c[i][j]))\n",
    "print(new)"
   ]
  },
  {
   "cell_type": "code",
   "execution_count": null,
   "metadata": {},
   "outputs": [],
   "source": []
  }
 ],
 "metadata": {
  "kernelspec": {
   "display_name": "Python 3",
   "language": "python",
   "name": "python3"
  },
  "language_info": {
   "codemirror_mode": {
    "name": "ipython",
    "version": 3
   },
   "file_extension": ".py",
   "mimetype": "text/x-python",
   "name": "python",
   "nbconvert_exporter": "python",
   "pygments_lexer": "ipython3",
   "version": "3.7.4"
  }
 },
 "nbformat": 4,
 "nbformat_minor": 2
}
