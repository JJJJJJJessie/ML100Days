{
 "cells": [
  {
   "cell_type": "markdown",
   "id": "67ed72dc",
   "metadata": {},
   "source": [
    "1. 挑選 Mr./Ms. Right。\n",
    "2. 顧客下次會買哪些東西？\n",
    "3. 半導體的良率預測？"
   ]
  },
  {
   "cell_type": "markdown",
   "id": "1c98a550",
   "metadata": {},
   "source": [
    "Q1: 哪一個問題不適合用資料科學解決?"
   ]
  },
  {
   "cell_type": "raw",
   "id": "adc00f6a",
   "metadata": {},
   "source": [
    "Choose Mr./Ms. Right."
   ]
  },
  {
   "cell_type": "markdown",
   "id": "623aa0e5",
   "metadata": {},
   "source": [
    "Q2: 以你的角度來分析，為什麼這樣的問題，較不適合用資料來解決?"
   ]
  },
  {
   "cell_type": "raw",
   "id": "33f5fb7e",
   "metadata": {},
   "source": [
    "The dataset is too big, and the variables are too large."
   ]
  },
  {
   "cell_type": "code",
   "execution_count": null,
   "id": "861cb98e",
   "metadata": {},
   "outputs": [],
   "source": []
  }
 ],
 "metadata": {
  "kernelspec": {
   "display_name": "Python 3",
   "language": "python",
   "name": "python3"
  },
  "language_info": {
   "codemirror_mode": {
    "name": "ipython",
    "version": 3
   },
   "file_extension": ".py",
   "mimetype": "text/x-python",
   "name": "python",
   "nbconvert_exporter": "python",
   "pygments_lexer": "ipython3",
   "version": "3.7.4"
  }
 },
 "nbformat": 4,
 "nbformat_minor": 5
}
